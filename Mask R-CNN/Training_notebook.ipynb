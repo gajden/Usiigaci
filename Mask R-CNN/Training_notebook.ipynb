{
 "cells": [
  {
   "cell_type": "markdown",
   "metadata": {},
   "source": [
    "## Notebook for training\n",
    "\n",
    "To make sure all imports work correctly export PYTHONPATH leading to your Mask RCNN directory."
   ]
  },
  {
   "cell_type": "code",
   "execution_count": null,
   "metadata": {},
   "outputs": [],
   "source": [
    "# TODO multi GPU training"
   ]
  },
  {
   "cell_type": "code",
   "execution_count": 1,
   "metadata": {},
   "outputs": [
    {
     "name": "stderr",
     "output_type": "stream",
     "text": [
      "Using TensorFlow backend.\n"
     ]
    }
   ],
   "source": [
    "import os\n",
    "import sys\n",
    "\n",
    "ROOT_DIR = os.path.abspath(\"../\")\n",
    "\n",
    "from imgaug import augmenters as iaa\n",
    "import numpy as np\n",
    "\n",
    "# Import Mask RCNN\n",
    "sys.path.append(ROOT_DIR)  # To find local version of the library\n",
    "from mrcnn import utils\n",
    "import mrcnn.model as modellib\n",
    "from mrcnn import visualize\n",
    "from mrcnn.config import Config\n",
    "from datasets import MultiClassCellDataset"
   ]
  },
  {
   "cell_type": "markdown",
   "metadata": {},
   "source": [
    "## Load dataset\n",
    "\n",
    "Check if your data are in expected format and visualize sample annotations.\n",
    "Dataset structure:\n"
   ]
  },
  {
   "cell_type": "code",
   "execution_count": 2,
   "metadata": {},
   "outputs": [],
   "source": [
    "train_data_dir = './sample_dataset'\n",
    "test_data_dir = './sample_dataset'\n",
    "\n",
    "train_dataset = MultiClassCellDataset()\n",
    "train_dataset.init_dataset(train_data_dir)\n",
    "\n",
    "test_dataset = MultiClassCellDataset()\n",
    "test_dataset.init_dataset(test_data_dir)"
   ]
  },
  {
   "cell_type": "code",
   "execution_count": 3,
   "metadata": {},
   "outputs": [
    {
     "data": {
      "text/plain": [
       "{'': 0, 'boundary': 1, 'cell': 2}"
      ]
     },
     "execution_count": 3,
     "metadata": {},
     "output_type": "execute_result"
    }
   ],
   "source": [
    "train_dataset.class_from_source_map"
   ]
  },
  {
   "cell_type": "markdown",
   "metadata": {},
   "source": [
    "## Configuration\n",
    "\n",
    "Training parameters for model."
   ]
  },
  {
   "cell_type": "code",
   "execution_count": 4,
   "metadata": {},
   "outputs": [],
   "source": [
    "class cellConfig(Config):\n",
    "    NAME = \"cell\"\n",
    "\n",
    "    # Adjust to GPU memory\n",
    "    IMAGES_PER_GPU = 1\n",
    "\n",
    "    NUM_CLASSES = 2  # Background + cell\n",
    "\n",
    "    STEPS_PER_EPOCH = 45\n",
    "    VALIDATION_STEPS = 5\n",
    "\n",
    "    # Don't exclude based on confidence. Since we have two classes\n",
    "    # then 0.5 is the minimum anyway as it picks between nucleus and BG\n",
    "    DETECTION_MIN_CONFIDENCE = 0.5\n",
    "\n",
    "    # Backbone network architecture\n",
    "    # Supported values are: resnet50, resnet101\n",
    "    BACKBONE = \"resnet50\"\n",
    "\n",
    "    # Input image resizing\n",
    "    # Random crops of size 512x512\n",
    "    IMAGE_RESIZE_MODE = \"crop\"\n",
    "    IMAGE_MIN_DIM = 512\n",
    "    IMAGE_MAX_DIM = 512\n",
    "    IMAGE_MIN_SCALE = 2.0\n",
    "\n",
    "    # Length of square anchor side in pixels\n",
    "    RPN_ANCHOR_SCALES = (8, 16, 32, 64, 128)\n",
    "\n",
    "    # ROIs kept after non-maximum supression (training and inference)\n",
    "    POST_NMS_ROIS_TRAINING = 1000\n",
    "    POST_NMS_ROIS_INFERENCE = 2000\n",
    "\n",
    "    # Non-max suppression threshold to filter RPN proposals.\n",
    "    # You can increase this during training to generate more propsals.\n",
    "    # RPN_NMS_THRESHOLD = 0.9\n",
    "    RPN_NMS_THRESHOLD = 0.99\n",
    "\n",
    "    # How many anchors per image to use for RPN training\n",
    "    # RPN_TRAIN_ANCHORS_PER_IMAGE = 64\n",
    "    RPN_TRAIN_ANCHORS_PER_IMAGE = 128\n",
    "\n",
    "    # Image mean (RGB)\n",
    "    # MEAN_PIXEL = np.array([43.53, 39.56, 48.22])\n",
    "    MEAN_PIXEL = np.array([126, 126, 126])\n",
    "    # If enabled, resizes instance masks to a smaller size to reduce\n",
    "    # memory load. Recommended when using high-resolution images.\n",
    "    USE_MINI_MASK = True\n",
    "    # MINI_MASK_SHAPE = (56, 56)  # (height, width) of the mini-mask\n",
    "    MINI_MASK_SHAPE = (100, 100)\n",
    "\n",
    "    # Number of ROIs per image to feed to classifier/mask heads\n",
    "    # The Mask RCNN paper uses 512 but often the RPN doesn't generate\n",
    "    # enough positive proposals to fill this and keep a positive:negative\n",
    "    # ratio of 1:3. You can increase the number of proposals by adjusting\n",
    "    # the RPN NMS threshold.\n",
    "    # TRAIN_ROIS_PER_IMAGE = 128\n",
    "    TRAIN_ROIS_PER_IMAGE = 256\n",
    "\n",
    "    # Maximum number of ground truth instances to use in one image\n",
    "    # MAX_GT_INSTANCES = 200\n",
    "    MAX_GT_INSTANCES = 500\n",
    "    # Max number of final detections per image\n",
    "    # DETECTION_MAX_INSTANCES = 400\n",
    "    DETECTION_MAX_INSTANCES = 1000"
   ]
  },
  {
   "cell_type": "markdown",
   "metadata": {},
   "source": [
    "## Training"
   ]
  },
  {
   "cell_type": "code",
   "execution_count": 5,
   "metadata": {},
   "outputs": [],
   "source": [
    "DEVICE = \"/cpu:0\" \n",
    "\n",
    "def get_model(mode, model_dir, config):\n",
    "    with tf.device(DEVICE):\n",
    "        model = modellib.MaskRCNN(mode='',\n",
    "                                  model_dir=model_dir,\n",
    "                                  config=config)\n",
    "    return model"
   ]
  },
  {
   "cell_type": "code",
   "execution_count": 6,
   "metadata": {},
   "outputs": [],
   "source": [
    "def train(model, config, train_dataset, val_dataset):\n",
    "    print(train_dataset.class_from_source_map)\n",
    "    print(val_dataset.class_from_source_map)\n",
    "    \n",
    "    augmentation = iaa.SomeOf((0, 2), [\n",
    "        iaa.Fliplr(0.5),\n",
    "        iaa.Flipud(0.5),\n",
    "        iaa.OneOf([iaa.Affine(rotate=90),\n",
    "                   iaa.Affine(rotate=180),\n",
    "                   iaa.Affine(rotate=270)]),\n",
    "        iaa.Multiply((0.8, 1.5)),\n",
    "        iaa.GaussianBlur(sigma=(0.0, 5.0))\n",
    "        # iaa.GaussianBlur(sigma=(0,3.0))\n",
    "    ])\n",
    "\n",
    "    print(\"Train network heads\")\n",
    "    model.train(train_dataset, val_dataset,\n",
    "                learning_rate=config.LEARNING_RATE,\n",
    "                # learning_rate = 0.01,\n",
    "                epochs=100,\n",
    "                augmentation=augmentation,\n",
    "                layers='heads')\n",
    "\n",
    "    print(\"Train all layers\")\n",
    "    model.train(train_dataset, val_dataset,\n",
    "                learning_rate=config.LEARNING_RATE,\n",
    "                # learning_rate = 0.1,\n",
    "                epochs=200,\n",
    "                augmentation=augmentation,\n",
    "                layers='all')"
   ]
  },
  {
   "cell_type": "code",
   "execution_count": 7,
   "metadata": {
    "scrolled": true
   },
   "outputs": [
    {
     "name": "stdout",
     "output_type": "stream",
     "text": [
      "> Training on data:  ./sample_dataset\n",
      "> Saving results to:  ./training_test\n",
      "WARNING:tensorflow:From /home/joanna/anaconda3/envs/usiigaci/lib/python3.6/site-packages/tensorflow/python/framework/op_def_library.py:263: colocate_with (from tensorflow.python.framework.ops) is deprecated and will be removed in a future version.\n",
      "Instructions for updating:\n",
      "Colocations handled automatically by placer.\n",
      "{'': 0, 'boundary': 1, 'cell': 2}\n",
      "{'': 0, 'boundary': 1, 'cell': 2}\n",
      "Train network heads\n",
      "\n",
      "Starting at epoch 0. LR=0.001\n",
      "\n",
      "Checkpoint Path: ./training_test/cell20190418T1727/mask_rcnn_cell_{epoch:04d}.h5\n",
      "Selecting layers to train\n",
      "fpn_c5p5               (Conv2D)\n",
      "fpn_c4p4               (Conv2D)\n",
      "fpn_c3p3               (Conv2D)\n",
      "fpn_c2p2               (Conv2D)\n",
      "fpn_p5                 (Conv2D)\n",
      "fpn_p2                 (Conv2D)\n",
      "fpn_p3                 (Conv2D)\n",
      "fpn_p4                 (Conv2D)\n",
      "In model:  rpn_model\n",
      "    rpn_conv_shared        (Conv2D)\n",
      "    rpn_class_raw          (Conv2D)\n",
      "    rpn_bbox_pred          (Conv2D)\n",
      "mrcnn_mask_conv1       (TimeDistributed)\n",
      "mrcnn_mask_bn1         (TimeDistributed)\n",
      "mrcnn_mask_conv2       (TimeDistributed)\n",
      "mrcnn_mask_bn2         (TimeDistributed)\n",
      "mrcnn_class_conv1      (TimeDistributed)\n",
      "mrcnn_class_bn1        (TimeDistributed)\n",
      "mrcnn_mask_conv3       (TimeDistributed)\n",
      "mrcnn_mask_bn3         (TimeDistributed)\n",
      "mrcnn_class_conv2      (TimeDistributed)\n",
      "mrcnn_class_bn2        (TimeDistributed)\n",
      "mrcnn_mask_conv4       (TimeDistributed)\n",
      "mrcnn_mask_bn4         (TimeDistributed)\n",
      "mrcnn_bbox_fc          (TimeDistributed)\n",
      "mrcnn_mask_deconv      (TimeDistributed)\n",
      "mrcnn_class_logits     (TimeDistributed)\n",
      "mrcnn_mask             (TimeDistributed)\n",
      "WARNING:tensorflow:From /home/joanna/anaconda3/envs/usiigaci/lib/python3.6/site-packages/tensorflow/python/ops/math_ops.py:3066: to_int32 (from tensorflow.python.ops.math_ops) is deprecated and will be removed in a future version.\n",
      "Instructions for updating:\n",
      "Use tf.cast instead.\n"
     ]
    },
    {
     "name": "stderr",
     "output_type": "stream",
     "text": [
      "/home/joanna/anaconda3/envs/usiigaci/lib/python3.6/site-packages/tensorflow/python/ops/gradients_impl.py:110: UserWarning: Converting sparse IndexedSlices to a dense Tensor of unknown shape. This may consume a large amount of memory.\n",
      "  \"Converting sparse IndexedSlices to a dense Tensor of unknown shape. \"\n",
      "/home/joanna/anaconda3/envs/usiigaci/lib/python3.6/site-packages/keras/engine/training_generator.py:47: UserWarning: Using a generator with `use_multiprocessing=True` and multiple workers may duplicate your data. Please consider using the`keras.utils.Sequence class.\n",
      "  UserWarning('Using a generator with `use_multiprocessing=True`'\n"
     ]
    },
    {
     "name": "stdout",
     "output_type": "stream",
     "text": [
      "Epoch 1/100\n",
      "image_info {'id': 4, 'source': 'custom', 'path': './sample_dataset/images/sample_21.jpg', 'annotations': ['./sample_dataset/annotations/sample_21/cell.png', './sample_dataset/annotations/sample_21/boundary.png']}\n",
      "image_info {'id': 4, 'source': 'custom', 'path': './sample_dataset/images/sample_21.jpg', 'annotations': ['./sample_dataset/annotations/sample_21/cell.png', './sample_dataset/annotations/sample_21/boundary.png']}\n",
      "class_id {'': 0, 'boundary': 1, 'cell': 2}\n",
      "image_info {'id': 4, 'source': 'custom', 'path': './sample_dataset/images/sample_21.jpg', 'annotations': ['./sample_dataset/annotations/sample_21/cell.png', './sample_dataset/annotations/sample_21/boundary.png']}\n",
      "image_info {'id': 4, 'source': 'custom', 'path': './sample_dataset/images/sample_21.jpg', 'annotations': ['./sample_dataset/annotations/sample_21/cell.png', './sample_dataset/annotations/sample_21/boundary.png']}\n",
      "image_info {'id': 4, 'source': 'custom', 'path': './sample_dataset/images/sample_21.jpg', 'annotations': ['./sample_dataset/annotations/sample_21/cell.png', './sample_dataset/annotations/sample_21/boundary.png']}\n",
      "image_info {'id': 4, 'source': 'custom', 'path': './sample_dataset/images/sample_21.jpg', 'annotations': ['./sample_dataset/annotations/sample_21/cell.png', './sample_dataset/annotations/sample_21/boundary.png']}\n",
      "image_info {'id': 4, 'source': 'custom', 'path': './sample_dataset/images/sample_21.jpg', 'annotations': ['./sample_dataset/annotations/sample_21/cell.png', './sample_dataset/annotations/sample_21/boundary.png']}\n",
      "image_info {'id': 4, 'source': 'custom', 'path': './sample_dataset/images/sample_21.jpg', 'annotations': ['./sample_dataset/annotations/sample_21/cell.png', './sample_dataset/annotations/sample_21/boundary.png']}\n",
      "class_id {'': 0, 'boundary': 1, 'cell': 2}\n",
      "class_id {'': 0, 'boundary': 1, 'cell': 2}\n",
      "image_info {'id': 4, 'source': 'custom', 'path': './sample_dataset/images/sample_21.jpg', 'annotations': ['./sample_dataset/annotations/sample_21/cell.png', './sample_dataset/annotations/sample_21/boundary.png']}\n",
      "class_id {'': 0, 'boundary': 1, 'cell': 2}\n",
      "image_info {'id': 4, 'source': 'custom', 'path': './sample_dataset/images/sample_21.jpg', 'annotations': ['./sample_dataset/annotations/sample_21/cell.png', './sample_dataset/annotations/sample_21/boundary.png']}\n",
      "class_id {'': 0, 'boundary': 1, 'cell': 2}\n",
      "class_id {'': 0, 'boundary': 1, 'cell': 2}\n",
      "image_info {'id': 4, 'source': 'custom', 'path': './sample_dataset/images/sample_21.jpg', 'annotations': ['./sample_dataset/annotations/sample_21/cell.png', './sample_dataset/annotations/sample_21/boundary.png']}\n",
      "image_info {'id': 4, 'source': 'custom', 'path': './sample_dataset/images/sample_21.jpg', 'annotations': ['./sample_dataset/annotations/sample_21/cell.png', './sample_dataset/annotations/sample_21/boundary.png']}\n",
      "image_info {'id': 4, 'source': 'custom', 'path': './sample_dataset/images/sample_21.jpg', 'annotations': ['./sample_dataset/annotations/sample_21/cell.png', './sample_dataset/annotations/sample_21/boundary.png']}\n",
      "image_info {'id': 4, 'source': 'custom', 'path': './sample_dataset/images/sample_21.jpg', 'annotations': ['./sample_dataset/annotations/sample_21/cell.png', './sample_dataset/annotations/sample_21/boundary.png']}\n",
      "class_id {'': 0, 'boundary': 1, 'cell': 2}\n",
      "class_id {'': 0, 'boundary': 1, 'cell': 2}\n",
      "class_id {'': 0, 'boundary': 1, 'cell': 2}\n",
      "class_id {'': 0, 'boundary': 1, 'cell': 2}\n",
      "class_id {'': 0, 'boundary': 1, 'cell': 2}\n",
      "class_id {'': 0, 'boundary': 1, 'cell': 2}\n",
      "class_id {'': 0, 'boundary': 1, 'cell': 2}\n",
      "image_info {'id': 4, 'source': 'custom', 'path': './sample_dataset/images/sample_21.jpg', 'annotations': ['./sample_dataset/annotations/sample_21/cell.png', './sample_dataset/annotations/sample_21/boundary.png']}\n",
      "image_info {'id': 4, 'source': 'custom', 'path': './sample_dataset/images/sample_21.jpg', 'annotations': ['./sample_dataset/annotations/sample_21/cell.png', './sample_dataset/annotations/sample_21/boundary.png']}\n",
      "class_id {'': 0, 'boundary': 1, 'cell': 2}\n",
      "class_id {'': 0, 'boundary': 1, 'cell': 2}\n",
      "class_id {'': 0, 'boundary': 1, 'cell': 2}\n"
     ]
    },
    {
     "name": "stderr",
     "output_type": "stream",
     "text": [
      "Exception in thread Thread-8:\n",
      "Traceback (most recent call last):\n",
      "  File \"/home/joanna/anaconda3/envs/usiigaci/lib/python3.6/threading.py\", line 916, in _bootstrap_inner\n",
      "    self.run()\n",
      "  File \"/home/joanna/anaconda3/envs/usiigaci/lib/python3.6/threading.py\", line 864, in run\n",
      "    self._target(*self._args, **self._kwargs)\n",
      "  File \"/home/joanna/anaconda3/envs/usiigaci/lib/python3.6/multiprocessing/pool.py\", line 405, in _handle_workers\n",
      "    pool._maintain_pool()\n",
      "  File \"/home/joanna/anaconda3/envs/usiigaci/lib/python3.6/multiprocessing/pool.py\", line 246, in _maintain_pool\n",
      "    self._repopulate_pool()\n",
      "  File \"/home/joanna/anaconda3/envs/usiigaci/lib/python3.6/multiprocessing/pool.py\", line 239, in _repopulate_pool\n",
      "    w.start()\n",
      "  File \"/home/joanna/anaconda3/envs/usiigaci/lib/python3.6/multiprocessing/process.py\", line 105, in start\n",
      "    self._popen = self._Popen(self)\n",
      "  File \"/home/joanna/anaconda3/envs/usiigaci/lib/python3.6/multiprocessing/context.py\", line 277, in _Popen\n",
      "    return Popen(process_obj)\n",
      "  File \"/home/joanna/anaconda3/envs/usiigaci/lib/python3.6/multiprocessing/popen_fork.py\", line 19, in __init__\n",
      "    self._launch(process_obj)\n",
      "  File \"/home/joanna/anaconda3/envs/usiigaci/lib/python3.6/multiprocessing/popen_fork.py\", line 66, in _launch\n",
      "    self.pid = os.fork()\n",
      "OSError: [Errno 12] Cannot allocate memory\n",
      "Exception in thread Thread-7:\n",
      "Traceback (most recent call last):\n",
      "  File \"/home/joanna/anaconda3/envs/usiigaci/lib/python3.6/threading.py\", line 916, in _bootstrap_inner\n",
      "    self.run()\n",
      "  File \"/home/joanna/anaconda3/envs/usiigaci/lib/python3.6/threading.py\", line 864, in run\n",
      "    self._target(*self._args, **self._kwargs)\n",
      "  File \"/home/joanna/anaconda3/envs/usiigaci/lib/python3.6/multiprocessing/pool.py\", line 405, in _handle_workers\n",
      "    pool._maintain_pool()\n",
      "  File \"/home/joanna/anaconda3/envs/usiigaci/lib/python3.6/multiprocessing/pool.py\", line 246, in _maintain_pool\n",
      "    self._repopulate_pool()\n",
      "  File \"/home/joanna/anaconda3/envs/usiigaci/lib/python3.6/multiprocessing/pool.py\", line 239, in _repopulate_pool\n",
      "    w.start()\n",
      "  File \"/home/joanna/anaconda3/envs/usiigaci/lib/python3.6/multiprocessing/process.py\", line 105, in start\n",
      "    self._popen = self._Popen(self)\n",
      "  File \"/home/joanna/anaconda3/envs/usiigaci/lib/python3.6/multiprocessing/context.py\", line 277, in _Popen\n",
      "    return Popen(process_obj)\n",
      "  File \"/home/joanna/anaconda3/envs/usiigaci/lib/python3.6/multiprocessing/popen_fork.py\", line 19, in __init__\n",
      "    self._launch(process_obj)\n",
      "  File \"/home/joanna/anaconda3/envs/usiigaci/lib/python3.6/multiprocessing/popen_fork.py\", line 66, in _launch\n",
      "    self.pid = os.fork()\n",
      "OSError: [Errno 12] Cannot allocate memory\n",
      "\n",
      "\n",
      "ERROR:root:Error processing image {'id': 4, 'source': 'custom', 'path': './sample_dataset/images/sample_21.jpg', 'annotations': ['./sample_dataset/annotations/sample_21/cell.png', './sample_dataset/annotations/sample_21/boundary.png']}\n",
      "Traceback (most recent call last):\n",
      "  File \"/data/work/cell_segmentation/Usiigaci/Mask R-CNN/mrcnn/model.py\", line 1695, in data_generator\n",
      "    use_mini_mask=config.USE_MINI_MASK)\n",
      "  File \"/data/work/cell_segmentation/Usiigaci/Mask R-CNN/mrcnn/model.py\", line 1218, in load_image_gt\n",
      "    mask = utils.resize_mask(mask, scale, padding, crop)\n",
      "  File \"/data/work/cell_segmentation/Usiigaci/Mask R-CNN/mrcnn/utils.py\", line 514, in resize_mask\n",
      "    mask = scipy.ndimage.zoom(mask, zoom=[scale, scale, 1], order=0)\n",
      "  File \"/home/joanna/anaconda3/envs/usiigaci/lib/python3.6/site-packages/scipy/ndimage/interpolation.py\", line 615, in zoom\n",
      "    shape=output_shape)\n",
      "  File \"/home/joanna/anaconda3/envs/usiigaci/lib/python3.6/site-packages/scipy/ndimage/_ni_support.py\", line 75, in _get_output\n",
      "    output = numpy.zeros(shape, dtype=input.dtype.name)\n",
      "MemoryErrorERROR:root:Error processing image {'id': 4, 'source': 'custom', 'path': './sample_dataset/images/sample_21.jpg', 'annotations': ['./sample_dataset/annotations/sample_21/cell.png', './sample_dataset/annotations/sample_21/boundary.png']}\n",
      "Traceback (most recent call last):\n",
      "  File \"/data/work/cell_segmentation/Usiigaci/Mask R-CNN/mrcnn/model.py\", line 1695, in data_generator\n",
      "    use_mini_mask=config.USE_MINI_MASK)\n",
      "  File \"/data/work/cell_segmentation/Usiigaci/Mask R-CNN/mrcnn/model.py\", line 1218, in load_image_gt\n",
      "    mask = utils.resize_mask(mask, scale, padding, crop)\n",
      "  File \"/data/work/cell_segmentation/Usiigaci/Mask R-CNN/mrcnn/utils.py\", line 514, in resize_mask\n",
      "    mask = scipy.ndimage.zoom(mask, zoom=[scale, scale, 1], order=0)\n",
      "  File \"/home/joanna/anaconda3/envs/usiigaci/lib/python3.6/site-packages/scipy/ndimage/interpolation.py\", line 615, in zoom\n",
      "    shape=output_shape)\n",
      "  File \"/home/joanna/anaconda3/envs/usiigaci/lib/python3.6/site-packages/scipy/ndimage/_ni_support.py\", line 75, in _get_output\n",
      "    output = numpy.zeros(shape, dtype=input.dtype.name)\n",
      "MemoryErrorERROR:root:Error processing image {'id': 4, 'source': 'custom', 'path': './sample_dataset/images/sample_21.jpg', 'annotations': ['./sample_dataset/annotations/sample_21/cell.png', './sample_dataset/annotations/sample_21/boundary.png']}\n",
      "Traceback (most recent call last):\n",
      "  File \"/data/work/cell_segmentation/Usiigaci/Mask R-CNN/mrcnn/model.py\", line 1695, in data_generator\n",
      "    use_mini_mask=config.USE_MINI_MASK)\n",
      "  File \"/data/work/cell_segmentation/Usiigaci/Mask R-CNN/mrcnn/model.py\", line 1218, in load_image_gt\n",
      "    mask = utils.resize_mask(mask, scale, padding, crop)\n",
      "  File \"/data/work/cell_segmentation/Usiigaci/Mask R-CNN/mrcnn/utils.py\", line 514, in resize_mask\n",
      "    mask = scipy.ndimage.zoom(mask, zoom=[scale, scale, 1], order=0)\n",
      "  File \"/home/joanna/anaconda3/envs/usiigaci/lib/python3.6/site-packages/scipy/ndimage/interpolation.py\", line 615, in zoom\n",
      "    shape=output_shape)\n",
      "  File \"/home/joanna/anaconda3/envs/usiigaci/lib/python3.6/site-packages/scipy/ndimage/_ni_support.py\", line 75, in _get_output\n",
      "    output = numpy.zeros(shape, dtype=input.dtype.name)\n",
      "MemoryErrorERROR:root:Error processing image {'id': 4, 'source': 'custom', 'path': './sample_dataset/images/sample_21.jpg', 'annotations': ['./sample_dataset/annotations/sample_21/cell.png', './sample_dataset/annotations/sample_21/boundary.png']}\n",
      "Traceback (most recent call last):\n",
      "  File \"/data/work/cell_segmentation/Usiigaci/Mask R-CNN/mrcnn/model.py\", line 1695, in data_generator\n",
      "    use_mini_mask=config.USE_MINI_MASK)\n",
      "  File \"/data/work/cell_segmentation/Usiigaci/Mask R-CNN/mrcnn/model.py\", line 1218, in load_image_gt\n",
      "    mask = utils.resize_mask(mask, scale, padding, crop)\n",
      "  File \"/data/work/cell_segmentation/Usiigaci/Mask R-CNN/mrcnn/utils.py\", line 514, in resize_mask\n",
      "    mask = scipy.ndimage.zoom(mask, zoom=[scale, scale, 1], order=0)\n",
      "  File \"/home/joanna/anaconda3/envs/usiigaci/lib/python3.6/site-packages/scipy/ndimage/interpolation.py\", line 615, in zoom\n",
      "    shape=output_shape)\n",
      "  File \"/home/joanna/anaconda3/envs/usiigaci/lib/python3.6/site-packages/scipy/ndimage/_ni_support.py\", line 75, in _get_output\n",
      "    output = numpy.zeros(shape, dtype=input.dtype.name)\n",
      "MemoryErrorERROR:root:Error processing image {'id': 4, 'source': 'custom', 'path': './sample_dataset/images/sample_21.jpg', 'annotations': ['./sample_dataset/annotations/sample_21/cell.png', './sample_dataset/annotations/sample_21/boundary.png']}\n",
      "Traceback (most recent call last):\n",
      "  File \"/data/work/cell_segmentation/Usiigaci/Mask R-CNN/mrcnn/model.py\", line 1695, in data_generator\n",
      "    use_mini_mask=config.USE_MINI_MASK)\n",
      "  File \"/data/work/cell_segmentation/Usiigaci/Mask R-CNN/mrcnn/model.py\", line 1218, in load_image_gt\n",
      "    mask = utils.resize_mask(mask, scale, padding, crop)\n",
      "  File \"/data/work/cell_segmentation/Usiigaci/Mask R-CNN/mrcnn/utils.py\", line 514, in resize_mask\n",
      "    mask = scipy.ndimage.zoom(mask, zoom=[scale, scale, 1], order=0)\n",
      "  File \"/home/joanna/anaconda3/envs/usiigaci/lib/python3.6/site-packages/scipy/ndimage/interpolation.py\", line 615, in zoom\n",
      "    shape=output_shape)\n",
      "  File \"/home/joanna/anaconda3/envs/usiigaci/lib/python3.6/site-packages/scipy/ndimage/_ni_support.py\", line 75, in _get_output\n",
      "    output = numpy.zeros(shape, dtype=input.dtype.name)\n",
      "MemoryError\n",
      "\n",
      "ERROR:root:Error processing image {'id': 4, 'source': 'custom', 'path': './sample_dataset/images/sample_21.jpg', 'annotations': ['./sample_dataset/annotations/sample_21/cell.png', './sample_dataset/annotations/sample_21/boundary.png']}\n",
      "Traceback (most recent call last):\n",
      "  File \"/data/work/cell_segmentation/Usiigaci/Mask R-CNN/mrcnn/model.py\", line 1695, in data_generator\n",
      "    use_mini_mask=config.USE_MINI_MASK)\n",
      "  File \"/data/work/cell_segmentation/Usiigaci/Mask R-CNN/mrcnn/model.py\", line 1218, in load_image_gt\n",
      "    mask = utils.resize_mask(mask, scale, padding, crop)\n",
      "  File \"/data/work/cell_segmentation/Usiigaci/Mask R-CNN/mrcnn/utils.py\", line 514, in resize_mask\n",
      "    mask = scipy.ndimage.zoom(mask, zoom=[scale, scale, 1], order=0)\n",
      "  File \"/home/joanna/anaconda3/envs/usiigaci/lib/python3.6/site-packages/scipy/ndimage/interpolation.py\", line 615, in zoom\n",
      "    shape=output_shape)\n",
      "  File \"/home/joanna/anaconda3/envs/usiigaci/lib/python3.6/site-packages/scipy/ndimage/_ni_support.py\", line 75, in _get_output\n",
      "    output = numpy.zeros(shape, dtype=input.dtype.name)\n"
     ]
    },
    {
     "name": "stderr",
     "output_type": "stream",
     "text": [
      "MemoryErrorERROR:root:Error processing image {'id': 4, 'source': 'custom', 'path': './sample_dataset/images/sample_21.jpg', 'annotations': ['./sample_dataset/annotations/sample_21/cell.png', './sample_dataset/annotations/sample_21/boundary.png']}\n",
      "Traceback (most recent call last):\n",
      "  File \"/data/work/cell_segmentation/Usiigaci/Mask R-CNN/mrcnn/model.py\", line 1695, in data_generator\n",
      "    use_mini_mask=config.USE_MINI_MASK)\n",
      "  File \"/data/work/cell_segmentation/Usiigaci/Mask R-CNN/mrcnn/model.py\", line 1218, in load_image_gt\n",
      "    mask = utils.resize_mask(mask, scale, padding, crop)\n",
      "  File \"/data/work/cell_segmentation/Usiigaci/Mask R-CNN/mrcnn/utils.py\", line 514, in resize_mask\n",
      "    mask = scipy.ndimage.zoom(mask, zoom=[scale, scale, 1], order=0)\n",
      "  File \"/home/joanna/anaconda3/envs/usiigaci/lib/python3.6/site-packages/scipy/ndimage/interpolation.py\", line 615, in zoom\n",
      "    shape=output_shape)\n",
      "  File \"/home/joanna/anaconda3/envs/usiigaci/lib/python3.6/site-packages/scipy/ndimage/_ni_support.py\", line 75, in _get_output\n",
      "    output = numpy.zeros(shape, dtype=input.dtype.name)\n",
      "MemoryError\n",
      "\n",
      "\n",
      "\n",
      "\n",
      "ERROR:root:Error processing image {'id': 4, 'source': 'custom', 'path': './sample_dataset/images/sample_21.jpg', 'annotations': ['./sample_dataset/annotations/sample_21/cell.png', './sample_dataset/annotations/sample_21/boundary.png']}\n",
      "Traceback (most recent call last):\n",
      "  File \"/data/work/cell_segmentation/Usiigaci/Mask R-CNN/mrcnn/model.py\", line 1695, in data_generator\n",
      "    use_mini_mask=config.USE_MINI_MASK)\n",
      "  File \"/data/work/cell_segmentation/Usiigaci/Mask R-CNN/mrcnn/model.py\", line 1218, in load_image_gt\n",
      "    mask = utils.resize_mask(mask, scale, padding, crop)\n",
      "  File \"/data/work/cell_segmentation/Usiigaci/Mask R-CNN/mrcnn/utils.py\", line 514, in resize_mask\n",
      "    mask = scipy.ndimage.zoom(mask, zoom=[scale, scale, 1], order=0)\n",
      "  File \"/home/joanna/anaconda3/envs/usiigaci/lib/python3.6/site-packages/scipy/ndimage/interpolation.py\", line 615, in zoom\n",
      "    shape=output_shape)\n",
      "  File \"/home/joanna/anaconda3/envs/usiigaci/lib/python3.6/site-packages/scipy/ndimage/_ni_support.py\", line 75, in _get_output\n",
      "    output = numpy.zeros(shape, dtype=input.dtype.name)\n",
      "MemoryErrorERROR:root:Error processing image {'id': 4, 'source': 'custom', 'path': './sample_dataset/images/sample_21.jpg', 'annotations': ['./sample_dataset/annotations/sample_21/cell.png', './sample_dataset/annotations/sample_21/boundary.png']}\n",
      "Traceback (most recent call last):\n",
      "  File \"/data/work/cell_segmentation/Usiigaci/Mask R-CNN/mrcnn/model.py\", line 1695, in data_generator\n",
      "    use_mini_mask=config.USE_MINI_MASK)\n",
      "  File \"/data/work/cell_segmentation/Usiigaci/Mask R-CNN/mrcnn/model.py\", line 1218, in load_image_gt\n",
      "    mask = utils.resize_mask(mask, scale, padding, crop)\n",
      "  File \"/data/work/cell_segmentation/Usiigaci/Mask R-CNN/mrcnn/utils.py\", line 514, in resize_mask\n",
      "    mask = scipy.ndimage.zoom(mask, zoom=[scale, scale, 1], order=0)\n",
      "  File \"/home/joanna/anaconda3/envs/usiigaci/lib/python3.6/site-packages/scipy/ndimage/interpolation.py\", line 615, in zoom\n",
      "    shape=output_shape)\n",
      "  File \"/home/joanna/anaconda3/envs/usiigaci/lib/python3.6/site-packages/scipy/ndimage/_ni_support.py\", line 75, in _get_output\n",
      "    output = numpy.zeros(shape, dtype=input.dtype.name)\n",
      "MemoryError\n",
      "\n",
      "ERROR:root:Error processing image {'id': 4, 'source': 'custom', 'path': './sample_dataset/images/sample_21.jpg', 'annotations': ['./sample_dataset/annotations/sample_21/cell.png', './sample_dataset/annotations/sample_21/boundary.png']}\n",
      "Traceback (most recent call last):\n",
      "  File \"/data/work/cell_segmentation/Usiigaci/Mask R-CNN/mrcnn/model.py\", line 1695, in data_generator\n",
      "    use_mini_mask=config.USE_MINI_MASK)\n",
      "  File \"/data/work/cell_segmentation/Usiigaci/Mask R-CNN/mrcnn/model.py\", line 1218, in load_image_gt\n",
      "    mask = utils.resize_mask(mask, scale, padding, crop)\n",
      "  File \"/data/work/cell_segmentation/Usiigaci/Mask R-CNN/mrcnn/utils.py\", line 514, in resize_mask\n",
      "    mask = scipy.ndimage.zoom(mask, zoom=[scale, scale, 1], order=0)\n",
      "  File \"/home/joanna/anaconda3/envs/usiigaci/lib/python3.6/site-packages/scipy/ndimage/interpolation.py\", line 615, in zoom\n",
      "    shape=output_shape)\n",
      "  File \"/home/joanna/anaconda3/envs/usiigaci/lib/python3.6/site-packages/scipy/ndimage/_ni_support.py\", line 75, in _get_output\n",
      "    output = numpy.zeros(shape, dtype=input.dtype.name)\n",
      "MemoryError\n"
     ]
    },
    {
     "name": "stdout",
     "output_type": "stream",
     "text": [
      "image_info {'id': 43, 'source': 'custom', 'path': './sample_dataset/images/sample_35.jpg', 'annotations': ['./sample_dataset/annotations/sample_35/cell.png', './sample_dataset/annotations/sample_35/boundary.png']}\n",
      "image_info {'id': 43, 'source': 'custom', 'path': './sample_dataset/images/sample_35.jpg', 'annotations': ['./sample_dataset/annotations/sample_35/cell.png', './sample_dataset/annotations/sample_35/boundary.png']}\n",
      "image_info {'id': 43, 'source': 'custom', 'path': './sample_dataset/images/sample_35.jpg', 'annotations': ['./sample_dataset/annotations/sample_35/cell.png', './sample_dataset/annotations/sample_35/boundary.png']}\n",
      "class_id {'': 0, 'boundary': 1, 'cell': 2}\n",
      "class_id {'': 0, 'boundary': 1, 'cell': 2}\n",
      "class_id {'': 0, 'boundary': 1, 'cell': 2}\n",
      "image_info {'id': 43, 'source': 'custom', 'path': './sample_dataset/images/sample_35.jpg', 'annotations': ['./sample_dataset/annotations/sample_35/cell.png', './sample_dataset/annotations/sample_35/boundary.png']}\n",
      "class_id {'': 0, 'boundary': 1, 'cell': 2}\n",
      "image_info {'id': 43, 'source': 'custom', 'path': './sample_dataset/images/sample_35.jpg', 'annotations': ['./sample_dataset/annotations/sample_35/cell.png', './sample_dataset/annotations/sample_35/boundary.png']}\n",
      "class_id {'': 0, 'boundary': 1, 'cell': 2}\n",
      "image_info {'id': 43, 'source': 'custom', 'path': './sample_dataset/images/sample_35.jpg', 'annotations': ['./sample_dataset/annotations/sample_35/cell.png', './sample_dataset/annotations/sample_35/boundary.png']}\n",
      "class_id {'': 0, 'boundary': 1, 'cell': 2}\n",
      "image_info {'id': 43, 'source': 'custom', 'path': './sample_dataset/images/sample_35.jpg', 'annotations': ['./sample_dataset/annotations/sample_35/cell.png', './sample_dataset/annotations/sample_35/boundary.png']}\n",
      "class_id {'': 0, 'boundary': 1, 'cell': 2}\n",
      "image_info {'id': 43, 'source': 'custom', 'path': './sample_dataset/images/sample_35.jpg', 'annotations': ['./sample_dataset/annotations/sample_35/cell.png', './sample_dataset/annotations/sample_35/boundary.png']}\n",
      "class_id {'': 0, 'boundary': 1, 'cell': 2}\n",
      "image_info {'id': 43, 'source': 'custom', 'path': './sample_dataset/images/sample_35.jpg', 'annotations': ['./sample_dataset/annotations/sample_35/cell.png', './sample_dataset/annotations/sample_35/boundary.png']}\n",
      "class_id {'': 0, 'boundary': 1, 'cell': 2}\n",
      "image_info {'id': 43, 'source': 'custom', 'path': './sample_dataset/images/sample_35.jpg', 'annotations': ['./sample_dataset/annotations/sample_35/cell.png', './sample_dataset/annotations/sample_35/boundary.png']}\n",
      "class_id {'': 0, 'boundary': 1, 'cell': 2}\n"
     ]
    },
    {
     "name": "stderr",
     "output_type": "stream",
     "text": [
      "ERROR:root:Error processing image {'id': 43, 'source': 'custom', 'path': './sample_dataset/images/sample_35.jpg', 'annotations': ['./sample_dataset/annotations/sample_35/cell.png', './sample_dataset/annotations/sample_35/boundary.png']}\n",
      "Traceback (most recent call last):\n",
      "  File \"/data/work/cell_segmentation/Usiigaci/Mask R-CNN/mrcnn/model.py\", line 1695, in data_generator\n",
      "    use_mini_mask=config.USE_MINI_MASK)\n",
      "  File \"/data/work/cell_segmentation/Usiigaci/Mask R-CNN/mrcnn/model.py\", line 1210, in load_image_gt\n",
      "    mask, class_ids = dataset.load_mask(image_id)\n",
      "  File \"/data/work/cell_segmentation/Usiigaci/Mask R-CNN/datasets.py\", line 136, in load_mask\n",
      "    instances_masks = np.swapaxes(np.swapaxes(np.asarray(instances_masks), 0, 2), 0, 1)\n",
      "  File \"/home/joanna/anaconda3/envs/usiigaci/lib/python3.6/site-packages/numpy/core/numeric.py\", line 538, in asarray\n",
      "    return array(a, dtype, copy=False, order=order)\n",
      "MemoryErrorERROR:root:Error processing image {'id': 43, 'source': 'custom', 'path': './sample_dataset/images/sample_35.jpg', 'annotations': ['./sample_dataset/annotations/sample_35/cell.png', './sample_dataset/annotations/sample_35/boundary.png']}\n",
      "Traceback (most recent call last):\n",
      "  File \"/data/work/cell_segmentation/Usiigaci/Mask R-CNN/mrcnn/model.py\", line 1695, in data_generator\n",
      "    use_mini_mask=config.USE_MINI_MASK)\n",
      "  File \"/data/work/cell_segmentation/Usiigaci/Mask R-CNN/mrcnn/model.py\", line 1210, in load_image_gt\n",
      "    mask, class_ids = dataset.load_mask(image_id)\n",
      "  File \"/data/work/cell_segmentation/Usiigaci/Mask R-CNN/datasets.py\", line 136, in load_mask\n",
      "    instances_masks = np.swapaxes(np.swapaxes(np.asarray(instances_masks), 0, 2), 0, 1)\n",
      "  File \"/home/joanna/anaconda3/envs/usiigaci/lib/python3.6/site-packages/numpy/core/numeric.py\", line 538, in asarray\n",
      "    return array(a, dtype, copy=False, order=order)\n",
      "MemoryError\n",
      "\n"
     ]
    },
    {
     "name": "stdout",
     "output_type": "stream",
     "text": [
      "image_info {'id': 18, 'source': 'custom', 'path': './sample_dataset/images/sample_23.jpg', 'annotations': ['./sample_dataset/annotations/sample_23/cell.png', './sample_dataset/annotations/sample_23/boundary.png']}\n",
      "image_info {'id': 18, 'source': 'custom', 'path': './sample_dataset/images/sample_23.jpg', 'annotations': ['./sample_dataset/annotations/sample_23/cell.png', './sample_dataset/annotations/sample_23/boundary.png']}\n",
      "class_id {'': 0, 'boundary': 1, 'cell': 2}\n",
      "class_id {'': 0, 'boundary': 1, 'cell': 2}\n"
     ]
    },
    {
     "name": "stderr",
     "output_type": "stream",
     "text": [
      "ERROR:root:Error processing image {'id': 43, 'source': 'custom', 'path': './sample_dataset/images/sample_35.jpg', 'annotations': ['./sample_dataset/annotations/sample_35/cell.png', './sample_dataset/annotations/sample_35/boundary.png']}\n",
      "Traceback (most recent call last):\n",
      "  File \"/data/work/cell_segmentation/Usiigaci/Mask R-CNN/mrcnn/model.py\", line 1695, in data_generator\n",
      "    use_mini_mask=config.USE_MINI_MASK)\n",
      "  File \"/data/work/cell_segmentation/Usiigaci/Mask R-CNN/mrcnn/model.py\", line 1218, in load_image_gt\n",
      "    mask = utils.resize_mask(mask, scale, padding, crop)\n",
      "  File \"/data/work/cell_segmentation/Usiigaci/Mask R-CNN/mrcnn/utils.py\", line 514, in resize_mask\n",
      "    mask = scipy.ndimage.zoom(mask, zoom=[scale, scale, 1], order=0)\n",
      "  File \"/home/joanna/anaconda3/envs/usiigaci/lib/python3.6/site-packages/scipy/ndimage/interpolation.py\", line 615, in zoom\n",
      "    shape=output_shape)\n",
      "  File \"/home/joanna/anaconda3/envs/usiigaci/lib/python3.6/site-packages/scipy/ndimage/_ni_support.py\", line 75, in _get_output\n",
      "    output = numpy.zeros(shape, dtype=input.dtype.name)\n",
      "MemoryError\n"
     ]
    },
    {
     "name": "stdout",
     "output_type": "stream",
     "text": [
      "image_info {'id': 18, 'source': 'custom', 'path': './sample_dataset/images/sample_23.jpg', 'annotations': ['./sample_dataset/annotations/sample_23/cell.png', './sample_dataset/annotations/sample_23/boundary.png']}\n",
      "class_id {'': 0, 'boundary': 1, 'cell': 2}\n"
     ]
    },
    {
     "name": "stderr",
     "output_type": "stream",
     "text": [
      "ERROR:root:Error processing image {'id': 43, 'source': 'custom', 'path': './sample_dataset/images/sample_35.jpg', 'annotations': ['./sample_dataset/annotations/sample_35/cell.png', './sample_dataset/annotations/sample_35/boundary.png']}\n",
      "Traceback (most recent call last):\n",
      "  File \"/data/work/cell_segmentation/Usiigaci/Mask R-CNN/mrcnn/model.py\", line 1695, in data_generator\n",
      "    use_mini_mask=config.USE_MINI_MASK)\n",
      "  File \"/data/work/cell_segmentation/Usiigaci/Mask R-CNN/mrcnn/model.py\", line 1218, in load_image_gt\n",
      "    mask = utils.resize_mask(mask, scale, padding, crop)\n",
      "  File \"/data/work/cell_segmentation/Usiigaci/Mask R-CNN/mrcnn/utils.py\", line 514, in resize_mask\n",
      "    mask = scipy.ndimage.zoom(mask, zoom=[scale, scale, 1], order=0)\n",
      "  File \"/home/joanna/anaconda3/envs/usiigaci/lib/python3.6/site-packages/scipy/ndimage/interpolation.py\", line 615, in zoom\n",
      "    shape=output_shape)\n",
      "  File \"/home/joanna/anaconda3/envs/usiigaci/lib/python3.6/site-packages/scipy/ndimage/_ni_support.py\", line 75, in _get_output\n",
      "    output = numpy.zeros(shape, dtype=input.dtype.name)\n",
      "MemoryError\n"
     ]
    },
    {
     "name": "stdout",
     "output_type": "stream",
     "text": [
      "image_info {'id': 18, 'source': 'custom', 'path': './sample_dataset/images/sample_23.jpg', 'annotations': ['./sample_dataset/annotations/sample_23/cell.png', './sample_dataset/annotations/sample_23/boundary.png']}\n",
      "class_id {'': 0, 'boundary': 1, 'cell': 2}\n"
     ]
    },
    {
     "name": "stderr",
     "output_type": "stream",
     "text": [
      "ERROR:root:Error processing image {'id': 43, 'source': 'custom', 'path': './sample_dataset/images/sample_35.jpg', 'annotations': ['./sample_dataset/annotations/sample_35/cell.png', './sample_dataset/annotations/sample_35/boundary.png']}\n",
      "Traceback (most recent call last):\n",
      "  File \"/data/work/cell_segmentation/Usiigaci/Mask R-CNN/mrcnn/model.py\", line 1695, in data_generator\n",
      "    use_mini_mask=config.USE_MINI_MASK)\n",
      "  File \"/data/work/cell_segmentation/Usiigaci/Mask R-CNN/mrcnn/model.py\", line 1210, in load_image_gt\n",
      "    mask, class_ids = dataset.load_mask(image_id)\n",
      "  File \"/data/work/cell_segmentation/Usiigaci/Mask R-CNN/datasets.py\", line 136, in load_mask\n",
      "    instances_masks = np.swapaxes(np.swapaxes(np.asarray(instances_masks), 0, 2), 0, 1)\n",
      "  File \"/home/joanna/anaconda3/envs/usiigaci/lib/python3.6/site-packages/numpy/core/numeric.py\", line 538, in asarray\n",
      "    return array(a, dtype, copy=False, order=order)\n",
      "MemoryError\n",
      "ERROR:root:Error processing image {'id': 43, 'source': 'custom', 'path': './sample_dataset/images/sample_35.jpg', 'annotations': ['./sample_dataset/annotations/sample_35/cell.png', './sample_dataset/annotations/sample_35/boundary.png']}\n",
      "Traceback (most recent call last):\n",
      "  File \"/data/work/cell_segmentation/Usiigaci/Mask R-CNN/mrcnn/model.py\", line 1695, in data_generator\n",
      "    use_mini_mask=config.USE_MINI_MASK)\n",
      "  File \"/data/work/cell_segmentation/Usiigaci/Mask R-CNN/mrcnn/model.py\", line 1210, in load_image_gt\n",
      "    mask, class_ids = dataset.load_mask(image_id)\n",
      "  File \"/data/work/cell_segmentation/Usiigaci/Mask R-CNN/datasets.py\", line 136, in load_mask\n",
      "    instances_masks = np.swapaxes(np.swapaxes(np.asarray(instances_masks), 0, 2), 0, 1)\n",
      "  File \"/home/joanna/anaconda3/envs/usiigaci/lib/python3.6/site-packages/numpy/core/numeric.py\", line 538, in asarray\n",
      "    return array(a, dtype, copy=False, order=order)\n",
      "MemoryError\n"
     ]
    },
    {
     "name": "stdout",
     "output_type": "stream",
     "text": [
      "image_info {'id': 18, 'source': 'custom', 'path': './sample_dataset/images/sample_23.jpg', 'annotations': ['./sample_dataset/annotations/sample_23/cell.png', './sample_dataset/annotations/sample_23/boundary.png']}\n",
      "class_id {'': 0, 'boundary': 1, 'cell': 2}\n",
      "image_info {'id': 18, 'source': 'custom', 'path': './sample_dataset/images/sample_23.jpg', 'annotations': ['./sample_dataset/annotations/sample_23/cell.png', './sample_dataset/annotations/sample_23/boundary.png']}\n",
      "class_id {'': 0, 'boundary': 1, 'cell': 2}\n"
     ]
    },
    {
     "name": "stderr",
     "output_type": "stream",
     "text": [
      "ERROR:root:Error processing image {'id': 43, 'source': 'custom', 'path': './sample_dataset/images/sample_35.jpg', 'annotations': ['./sample_dataset/annotations/sample_35/cell.png', './sample_dataset/annotations/sample_35/boundary.png']}\n",
      "Traceback (most recent call last):\n",
      "  File \"/data/work/cell_segmentation/Usiigaci/Mask R-CNN/mrcnn/model.py\", line 1695, in data_generator\n",
      "    use_mini_mask=config.USE_MINI_MASK)\n",
      "  File \"/data/work/cell_segmentation/Usiigaci/Mask R-CNN/mrcnn/model.py\", line 1218, in load_image_gt\n",
      "    mask = utils.resize_mask(mask, scale, padding, crop)\n",
      "  File \"/data/work/cell_segmentation/Usiigaci/Mask R-CNN/mrcnn/utils.py\", line 514, in resize_mask\n",
      "    mask = scipy.ndimage.zoom(mask, zoom=[scale, scale, 1], order=0)\n",
      "  File \"/home/joanna/anaconda3/envs/usiigaci/lib/python3.6/site-packages/scipy/ndimage/interpolation.py\", line 615, in zoom\n",
      "    shape=output_shape)\n",
      "  File \"/home/joanna/anaconda3/envs/usiigaci/lib/python3.6/site-packages/scipy/ndimage/_ni_support.py\", line 75, in _get_output\n",
      "    output = numpy.zeros(shape, dtype=input.dtype.name)\n",
      "MemoryError\n"
     ]
    },
    {
     "name": "stdout",
     "output_type": "stream",
     "text": [
      "image_info {'id': 18, 'source': 'custom', 'path': './sample_dataset/images/sample_23.jpg', 'annotations': ['./sample_dataset/annotations/sample_23/cell.png', './sample_dataset/annotations/sample_23/boundary.png']}\n",
      "class_id {'': 0, 'boundary': 1, 'cell': 2}\n"
     ]
    },
    {
     "name": "stderr",
     "output_type": "stream",
     "text": [
      "ERROR:root:Error processing image {'id': 43, 'source': 'custom', 'path': './sample_dataset/images/sample_35.jpg', 'annotations': ['./sample_dataset/annotations/sample_35/cell.png', './sample_dataset/annotations/sample_35/boundary.png']}\n",
      "Traceback (most recent call last):\n",
      "  File \"/data/work/cell_segmentation/Usiigaci/Mask R-CNN/mrcnn/model.py\", line 1695, in data_generator\n",
      "    use_mini_mask=config.USE_MINI_MASK)\n",
      "  File \"/data/work/cell_segmentation/Usiigaci/Mask R-CNN/mrcnn/model.py\", line 1218, in load_image_gt\n",
      "    mask = utils.resize_mask(mask, scale, padding, crop)\n",
      "  File \"/data/work/cell_segmentation/Usiigaci/Mask R-CNN/mrcnn/utils.py\", line 514, in resize_mask\n",
      "    mask = scipy.ndimage.zoom(mask, zoom=[scale, scale, 1], order=0)\n",
      "  File \"/home/joanna/anaconda3/envs/usiigaci/lib/python3.6/site-packages/scipy/ndimage/interpolation.py\", line 615, in zoom\n",
      "    shape=output_shape)\n",
      "  File \"/home/joanna/anaconda3/envs/usiigaci/lib/python3.6/site-packages/scipy/ndimage/_ni_support.py\", line 75, in _get_output\n",
      "    output = numpy.zeros(shape, dtype=input.dtype.name)\n",
      "MemoryError\n"
     ]
    },
    {
     "name": "stdout",
     "output_type": "stream",
     "text": [
      "image_info {'id': 18, 'source': 'custom', 'path': './sample_dataset/images/sample_23.jpg', 'annotations': ['./sample_dataset/annotations/sample_23/cell.png', './sample_dataset/annotations/sample_23/boundary.png']}\n",
      "class_id {'': 0, 'boundary': 1, 'cell': 2}\n"
     ]
    },
    {
     "name": "stderr",
     "output_type": "stream",
     "text": [
      "ERROR:root:Error processing image {'id': 43, 'source': 'custom', 'path': './sample_dataset/images/sample_35.jpg', 'annotations': ['./sample_dataset/annotations/sample_35/cell.png', './sample_dataset/annotations/sample_35/boundary.png']}\n",
      "Traceback (most recent call last):\n",
      "  File \"/data/work/cell_segmentation/Usiigaci/Mask R-CNN/mrcnn/model.py\", line 1695, in data_generator\n",
      "    use_mini_mask=config.USE_MINI_MASK)\n",
      "  File \"/data/work/cell_segmentation/Usiigaci/Mask R-CNN/mrcnn/model.py\", line 1218, in load_image_gt\n",
      "    mask = utils.resize_mask(mask, scale, padding, crop)\n",
      "  File \"/data/work/cell_segmentation/Usiigaci/Mask R-CNN/mrcnn/utils.py\", line 514, in resize_mask\n",
      "    mask = scipy.ndimage.zoom(mask, zoom=[scale, scale, 1], order=0)\n",
      "  File \"/home/joanna/anaconda3/envs/usiigaci/lib/python3.6/site-packages/scipy/ndimage/interpolation.py\", line 615, in zoom\n",
      "    shape=output_shape)\n",
      "  File \"/home/joanna/anaconda3/envs/usiigaci/lib/python3.6/site-packages/scipy/ndimage/_ni_support.py\", line 75, in _get_output\n",
      "    output = numpy.zeros(shape, dtype=input.dtype.name)\n",
      "MemoryError\n",
      "ERROR:root:Error processing image {'id': 43, 'source': 'custom', 'path': './sample_dataset/images/sample_35.jpg', 'annotations': ['./sample_dataset/annotations/sample_35/cell.png', './sample_dataset/annotations/sample_35/boundary.png']}\n",
      "Traceback (most recent call last):\n",
      "  File \"/data/work/cell_segmentation/Usiigaci/Mask R-CNN/mrcnn/model.py\", line 1695, in data_generator\n",
      "    use_mini_mask=config.USE_MINI_MASK)\n",
      "  File \"/data/work/cell_segmentation/Usiigaci/Mask R-CNN/mrcnn/model.py\", line 1218, in load_image_gt\n",
      "    mask = utils.resize_mask(mask, scale, padding, crop)\n",
      "  File \"/data/work/cell_segmentation/Usiigaci/Mask R-CNN/mrcnn/utils.py\", line 514, in resize_mask\n",
      "    mask = scipy.ndimage.zoom(mask, zoom=[scale, scale, 1], order=0)\n",
      "  File \"/home/joanna/anaconda3/envs/usiigaci/lib/python3.6/site-packages/scipy/ndimage/interpolation.py\", line 615, in zoom\n",
      "    shape=output_shape)\n",
      "  File \"/home/joanna/anaconda3/envs/usiigaci/lib/python3.6/site-packages/scipy/ndimage/_ni_support.py\", line 75, in _get_output\n",
      "    output = numpy.zeros(shape, dtype=input.dtype.name)\n",
      "MemoryError"
     ]
    },
    {
     "name": "stdout",
     "output_type": "stream",
     "text": [
      "image_info {'id': 18, 'source': 'custom', 'path': './sample_dataset/images/sample_23.jpg', 'annotations': ['./sample_dataset/annotations/sample_23/cell.png', './sample_dataset/annotations/sample_23/boundary.png']}\n"
     ]
    },
    {
     "name": "stderr",
     "output_type": "stream",
     "text": [
      "\n"
     ]
    },
    {
     "name": "stdout",
     "output_type": "stream",
     "text": [
      "class_id {'': 0, 'boundary': 1, 'cell': 2}\n",
      "image_info {'id': 18, 'source': 'custom', 'path': './sample_dataset/images/sample_23.jpg', 'annotations': ['./sample_dataset/annotations/sample_23/cell.png', './sample_dataset/annotations/sample_23/boundary.png']}\n",
      "class_id {'': 0, 'boundary': 1, 'cell': 2}\n"
     ]
    },
    {
     "name": "stderr",
     "output_type": "stream",
     "text": [
      "ERROR:root:Error processing image {'id': 18, 'source': 'custom', 'path': './sample_dataset/images/sample_23.jpg', 'annotations': ['./sample_dataset/annotations/sample_23/cell.png', './sample_dataset/annotations/sample_23/boundary.png']}\n",
      "Traceback (most recent call last):\n",
      "  File \"/data/work/cell_segmentation/Usiigaci/Mask R-CNN/mrcnn/model.py\", line 1695, in data_generator\n",
      "    use_mini_mask=config.USE_MINI_MASK)\n",
      "  File \"/data/work/cell_segmentation/Usiigaci/Mask R-CNN/mrcnn/model.py\", line 1210, in load_image_gt\n",
      "    mask, class_ids = dataset.load_mask(image_id)\n",
      "  File \"/data/work/cell_segmentation/Usiigaci/Mask R-CNN/datasets.py\", line 136, in load_mask\n",
      "    instances_masks = np.swapaxes(np.swapaxes(np.asarray(instances_masks), 0, 2), 0, 1)\n",
      "  File \"/home/joanna/anaconda3/envs/usiigaci/lib/python3.6/site-packages/numpy/core/numeric.py\", line 538, in asarray\n",
      "    return array(a, dtype, copy=False, order=order)\n",
      "MemoryError\n"
     ]
    },
    {
     "name": "stdout",
     "output_type": "stream",
     "text": [
      "image_info {'id': 27, 'source': 'custom', 'path': './sample_dataset/images/sample_16.jpg', 'annotations': ['./sample_dataset/annotations/sample_16/cell.png', './sample_dataset/annotations/sample_16/boundary.png']}\n",
      "class_id {'': 0, 'boundary': 1, 'cell': 2}\n"
     ]
    },
    {
     "name": "stderr",
     "output_type": "stream",
     "text": [
      "ERROR:root:Error processing image {'id': 18, 'source': 'custom', 'path': './sample_dataset/images/sample_23.jpg', 'annotations': ['./sample_dataset/annotations/sample_23/cell.png', './sample_dataset/annotations/sample_23/boundary.png']}\n",
      "Traceback (most recent call last):\n",
      "  File \"/data/work/cell_segmentation/Usiigaci/Mask R-CNN/mrcnn/model.py\", line 1695, in data_generator\n",
      "    use_mini_mask=config.USE_MINI_MASK)\n",
      "  File \"/data/work/cell_segmentation/Usiigaci/Mask R-CNN/mrcnn/model.py\", line 1210, in load_image_gt\n",
      "    mask, class_ids = dataset.load_mask(image_id)\n",
      "  File \"/data/work/cell_segmentation/Usiigaci/Mask R-CNN/datasets.py\", line 136, in load_mask\n",
      "    instances_masks = np.swapaxes(np.swapaxes(np.asarray(instances_masks), 0, 2), 0, 1)\n",
      "  File \"/home/joanna/anaconda3/envs/usiigaci/lib/python3.6/site-packages/numpy/core/numeric.py\", line 538, in asarray\n",
      "    return array(a, dtype, copy=False, order=order)\n",
      "MemoryError\n"
     ]
    },
    {
     "name": "stdout",
     "output_type": "stream",
     "text": [
      "image_info {'id': 27, 'source': 'custom', 'path': './sample_dataset/images/sample_16.jpg', 'annotations': ['./sample_dataset/annotations/sample_16/cell.png', './sample_dataset/annotations/sample_16/boundary.png']}\n",
      "class_id {'': 0, 'boundary': 1, 'cell': 2}\n"
     ]
    },
    {
     "name": "stderr",
     "output_type": "stream",
     "text": [
      "ERROR:root:Error processing image {'id': 18, 'source': 'custom', 'path': './sample_dataset/images/sample_23.jpg', 'annotations': ['./sample_dataset/annotations/sample_23/cell.png', './sample_dataset/annotations/sample_23/boundary.png']}\n",
      "Traceback (most recent call last):\n",
      "  File \"/data/work/cell_segmentation/Usiigaci/Mask R-CNN/mrcnn/model.py\", line 1695, in data_generator\n",
      "    use_mini_mask=config.USE_MINI_MASK)\n",
      "  File \"/data/work/cell_segmentation/Usiigaci/Mask R-CNN/mrcnn/model.py\", line 1218, in load_image_gt\n",
      "    mask = utils.resize_mask(mask, scale, padding, crop)\n",
      "  File \"/data/work/cell_segmentation/Usiigaci/Mask R-CNN/mrcnn/utils.py\", line 514, in resize_mask\n",
      "    mask = scipy.ndimage.zoom(mask, zoom=[scale, scale, 1], order=0)\n",
      "  File \"/home/joanna/anaconda3/envs/usiigaci/lib/python3.6/site-packages/scipy/ndimage/interpolation.py\", line 615, in zoom\n",
      "    shape=output_shape)\n",
      "  File \"/home/joanna/anaconda3/envs/usiigaci/lib/python3.6/site-packages/scipy/ndimage/_ni_support.py\", line 75, in _get_output\n",
      "    output = numpy.zeros(shape, dtype=input.dtype.name)\n",
      "MemoryError\n"
     ]
    },
    {
     "name": "stdout",
     "output_type": "stream",
     "text": [
      "image_info {'id': 27, 'source': 'custom', 'path': './sample_dataset/images/sample_16.jpg', 'annotations': ['./sample_dataset/annotations/sample_16/cell.png', './sample_dataset/annotations/sample_16/boundary.png']}\n",
      "class_id {'': 0, 'boundary': 1, 'cell': 2}\n"
     ]
    },
    {
     "name": "stderr",
     "output_type": "stream",
     "text": [
      "ERROR:root:Error processing image {'id': 18, 'source': 'custom', 'path': './sample_dataset/images/sample_23.jpg', 'annotations': ['./sample_dataset/annotations/sample_23/cell.png', './sample_dataset/annotations/sample_23/boundary.png']}\n",
      "Traceback (most recent call last):\n",
      "  File \"/data/work/cell_segmentation/Usiigaci/Mask R-CNN/mrcnn/model.py\", line 1695, in data_generator\n",
      "    use_mini_mask=config.USE_MINI_MASK)\n",
      "  File \"/data/work/cell_segmentation/Usiigaci/Mask R-CNN/mrcnn/model.py\", line 1210, in load_image_gt\n",
      "    mask, class_ids = dataset.load_mask(image_id)\n",
      "  File \"/data/work/cell_segmentation/Usiigaci/Mask R-CNN/datasets.py\", line 136, in load_mask\n",
      "    instances_masks = np.swapaxes(np.swapaxes(np.asarray(instances_masks), 0, 2), 0, 1)\n",
      "  File \"/home/joanna/anaconda3/envs/usiigaci/lib/python3.6/site-packages/numpy/core/numeric.py\", line 538, in asarray\n",
      "    return array(a, dtype, copy=False, order=order)\n",
      "MemoryErrorERROR:root:Error processing image {'id': 18, 'source': 'custom', 'path': './sample_dataset/images/sample_23.jpg', 'annotations': ['./sample_dataset/annotations/sample_23/cell.png', './sample_dataset/annotations/sample_23/boundary.png']}\n",
      "Traceback (most recent call last):\n",
      "  File \"/data/work/cell_segmentation/Usiigaci/Mask R-CNN/mrcnn/model.py\", line 1695, in data_generator\n",
      "    use_mini_mask=config.USE_MINI_MASK)\n",
      "  File \"/data/work/cell_segmentation/Usiigaci/Mask R-CNN/mrcnn/model.py\", line 1218, in load_image_gt\n",
      "    mask = utils.resize_mask(mask, scale, padding, crop)\n",
      "  File \"/data/work/cell_segmentation/Usiigaci/Mask R-CNN/mrcnn/utils.py\", line 514, in resize_mask\n",
      "    mask = scipy.ndimage.zoom(mask, zoom=[scale, scale, 1], order=0)\n",
      "  File \"/home/joanna/anaconda3/envs/usiigaci/lib/python3.6/site-packages/scipy/ndimage/interpolation.py\", line 615, in zoom\n",
      "    shape=output_shape)\n",
      "  File \"/home/joanna/anaconda3/envs/usiigaci/lib/python3.6/site-packages/scipy/ndimage/_ni_support.py\", line 75, in _get_output\n",
      "    output = numpy.zeros(shape, dtype=input.dtype.name)\n",
      "MemoryError\n",
      "\n"
     ]
    },
    {
     "name": "stdout",
     "output_type": "stream",
     "text": [
      "image_info {'id': 27, 'source': 'custom', 'path': './sample_dataset/images/sample_16.jpg', 'annotations': ['./sample_dataset/annotations/sample_16/cell.png', './sample_dataset/annotations/sample_16/boundary.png']}\n",
      "class_id {'': 0, 'boundary': 1, 'cell': 2}\n",
      "image_info {'id': 27, 'source': 'custom', 'path': './sample_dataset/images/sample_16.jpg', 'annotations': ['./sample_dataset/annotations/sample_16/cell.png', './sample_dataset/annotations/sample_16/boundary.png']}\n",
      "class_id {'': 0, 'boundary': 1, 'cell': 2}\n"
     ]
    },
    {
     "name": "stderr",
     "output_type": "stream",
     "text": [
      "ERROR:root:Error processing image {'id': 18, 'source': 'custom', 'path': './sample_dataset/images/sample_23.jpg', 'annotations': ['./sample_dataset/annotations/sample_23/cell.png', './sample_dataset/annotations/sample_23/boundary.png']}\n",
      "Traceback (most recent call last):\n",
      "  File \"/data/work/cell_segmentation/Usiigaci/Mask R-CNN/mrcnn/model.py\", line 1695, in data_generator\n",
      "    use_mini_mask=config.USE_MINI_MASK)\n",
      "  File \"/data/work/cell_segmentation/Usiigaci/Mask R-CNN/mrcnn/model.py\", line 1218, in load_image_gt\n",
      "    mask = utils.resize_mask(mask, scale, padding, crop)\n",
      "  File \"/data/work/cell_segmentation/Usiigaci/Mask R-CNN/mrcnn/utils.py\", line 514, in resize_mask\n",
      "    mask = scipy.ndimage.zoom(mask, zoom=[scale, scale, 1], order=0)\n",
      "  File \"/home/joanna/anaconda3/envs/usiigaci/lib/python3.6/site-packages/scipy/ndimage/interpolation.py\", line 615, in zoom\n",
      "    shape=output_shape)\n",
      "  File \"/home/joanna/anaconda3/envs/usiigaci/lib/python3.6/site-packages/scipy/ndimage/_ni_support.py\", line 75, in _get_output\n",
      "    output = numpy.zeros(shape, dtype=input.dtype.name)\n",
      "MemoryError\n"
     ]
    },
    {
     "name": "stdout",
     "output_type": "stream",
     "text": [
      "image_info {'id': 27, 'source': 'custom', 'path': './sample_dataset/images/sample_16.jpg', 'annotations': ['./sample_dataset/annotations/sample_16/cell.png', './sample_dataset/annotations/sample_16/boundary.png']}\n",
      "class_id {'': 0, 'boundary': 1, 'cell': 2}\n"
     ]
    },
    {
     "name": "stderr",
     "output_type": "stream",
     "text": [
      "ERROR:root:Error processing image {'id': 18, 'source': 'custom', 'path': './sample_dataset/images/sample_23.jpg', 'annotations': ['./sample_dataset/annotations/sample_23/cell.png', './sample_dataset/annotations/sample_23/boundary.png']}\n",
      "Traceback (most recent call last):\n",
      "  File \"/data/work/cell_segmentation/Usiigaci/Mask R-CNN/mrcnn/model.py\", line 1695, in data_generator\n",
      "    use_mini_mask=config.USE_MINI_MASK)\n",
      "  File \"/data/work/cell_segmentation/Usiigaci/Mask R-CNN/mrcnn/model.py\", line 1218, in load_image_gt\n",
      "    mask = utils.resize_mask(mask, scale, padding, crop)\n",
      "  File \"/data/work/cell_segmentation/Usiigaci/Mask R-CNN/mrcnn/utils.py\", line 514, in resize_mask\n",
      "    mask = scipy.ndimage.zoom(mask, zoom=[scale, scale, 1], order=0)\n",
      "  File \"/home/joanna/anaconda3/envs/usiigaci/lib/python3.6/site-packages/scipy/ndimage/interpolation.py\", line 615, in zoom\n",
      "    shape=output_shape)\n",
      "  File \"/home/joanna/anaconda3/envs/usiigaci/lib/python3.6/site-packages/scipy/ndimage/_ni_support.py\", line 75, in _get_output\n",
      "    output = numpy.zeros(shape, dtype=input.dtype.name)\n",
      "MemoryError\n"
     ]
    },
    {
     "name": "stdout",
     "output_type": "stream",
     "text": [
      "image_info {'id': 27, 'source': 'custom', 'path': './sample_dataset/images/sample_16.jpg', 'annotations': ['./sample_dataset/annotations/sample_16/cell.png', './sample_dataset/annotations/sample_16/boundary.png']}\n",
      "class_id {'': 0, 'boundary': 1, 'cell': 2}\n"
     ]
    },
    {
     "name": "stderr",
     "output_type": "stream",
     "text": [
      "ERROR:root:Error processing image {'id': 18, 'source': 'custom', 'path': './sample_dataset/images/sample_23.jpg', 'annotations': ['./sample_dataset/annotations/sample_23/cell.png', './sample_dataset/annotations/sample_23/boundary.png']}\n",
      "Traceback (most recent call last):\n",
      "  File \"/data/work/cell_segmentation/Usiigaci/Mask R-CNN/mrcnn/model.py\", line 1695, in data_generator\n",
      "    use_mini_mask=config.USE_MINI_MASK)\n",
      "  File \"/data/work/cell_segmentation/Usiigaci/Mask R-CNN/mrcnn/model.py\", line 1210, in load_image_gt\n",
      "    mask, class_ids = dataset.load_mask(image_id)\n",
      "  File \"/data/work/cell_segmentation/Usiigaci/Mask R-CNN/datasets.py\", line 136, in load_mask\n",
      "    instances_masks = np.swapaxes(np.swapaxes(np.asarray(instances_masks), 0, 2), 0, 1)\n",
      "  File \"/home/joanna/anaconda3/envs/usiigaci/lib/python3.6/site-packages/numpy/core/numeric.py\", line 538, in asarray\n",
      "    return array(a, dtype, copy=False, order=order)\n",
      "MemoryError\n"
     ]
    },
    {
     "name": "stdout",
     "output_type": "stream",
     "text": [
      "image_info {'id': 27, 'source': 'custom', 'path': './sample_dataset/images/sample_16.jpg', 'annotations': ['./sample_dataset/annotations/sample_16/cell.png', './sample_dataset/annotations/sample_16/boundary.png']}\n",
      "class_id {'': 0, 'boundary': 1, 'cell': 2}\n"
     ]
    },
    {
     "name": "stderr",
     "output_type": "stream",
     "text": [
      "ERROR:root:Error processing image {'id': 18, 'source': 'custom', 'path': './sample_dataset/images/sample_23.jpg', 'annotations': ['./sample_dataset/annotations/sample_23/cell.png', './sample_dataset/annotations/sample_23/boundary.png']}\n",
      "Traceback (most recent call last):\n",
      "  File \"/data/work/cell_segmentation/Usiigaci/Mask R-CNN/mrcnn/model.py\", line 1695, in data_generator\n",
      "    use_mini_mask=config.USE_MINI_MASK)\n",
      "  File \"/data/work/cell_segmentation/Usiigaci/Mask R-CNN/mrcnn/model.py\", line 1218, in load_image_gt\n",
      "    mask = utils.resize_mask(mask, scale, padding, crop)\n",
      "  File \"/data/work/cell_segmentation/Usiigaci/Mask R-CNN/mrcnn/utils.py\", line 514, in resize_mask\n",
      "    mask = scipy.ndimage.zoom(mask, zoom=[scale, scale, 1], order=0)\n",
      "  File \"/home/joanna/anaconda3/envs/usiigaci/lib/python3.6/site-packages/scipy/ndimage/interpolation.py\", line 615, in zoom\n",
      "    shape=output_shape)\n",
      "  File \"/home/joanna/anaconda3/envs/usiigaci/lib/python3.6/site-packages/scipy/ndimage/_ni_support.py\", line 75, in _get_output\n",
      "    output = numpy.zeros(shape, dtype=input.dtype.name)\n",
      "MemoryError\n"
     ]
    },
    {
     "name": "stdout",
     "output_type": "stream",
     "text": [
      "image_info {'id': 27, 'source': 'custom', 'path': './sample_dataset/images/sample_16.jpg', 'annotations': ['./sample_dataset/annotations/sample_16/cell.png', './sample_dataset/annotations/sample_16/boundary.png']}\n"
     ]
    },
    {
     "name": "stderr",
     "output_type": "stream",
     "text": [
      "ERROR:root:Error processing image {'id': 18, 'source': 'custom', 'path': './sample_dataset/images/sample_23.jpg', 'annotations': ['./sample_dataset/annotations/sample_23/cell.png', './sample_dataset/annotations/sample_23/boundary.png']}\n",
      "Traceback (most recent call last):\n",
      "  File \"/data/work/cell_segmentation/Usiigaci/Mask R-CNN/mrcnn/model.py\", line 1695, in data_generator\n",
      "    use_mini_mask=config.USE_MINI_MASK)\n",
      "  File \"/data/work/cell_segmentation/Usiigaci/Mask R-CNN/mrcnn/model.py\", line 1218, in load_image_gt\n",
      "    mask = utils.resize_mask(mask, scale, padding, crop)\n",
      "  File \"/data/work/cell_segmentation/Usiigaci/Mask R-CNN/mrcnn/utils.py\", line 514, in resize_mask\n",
      "    mask = scipy.ndimage.zoom(mask, zoom=[scale, scale, 1], order=0)\n",
      "  File \"/home/joanna/anaconda3/envs/usiigaci/lib/python3.6/site-packages/scipy/ndimage/interpolation.py\", line 615, in zoom\n",
      "    shape=output_shape)\n",
      "  File \"/home/joanna/anaconda3/envs/usiigaci/lib/python3.6/site-packages/scipy/ndimage/_ni_support.py\", line 75, in _get_output\n",
      "    output = numpy.zeros(shape, dtype=input.dtype.name)\n",
      "MemoryError"
     ]
    },
    {
     "name": "stdout",
     "output_type": "stream",
     "text": [
      "class_id {'': 0, 'boundary': 1, 'cell': 2}\n"
     ]
    },
    {
     "name": "stderr",
     "output_type": "stream",
     "text": [
      "\n"
     ]
    },
    {
     "name": "stdout",
     "output_type": "stream",
     "text": [
      "image_info {'id': 27, 'source': 'custom', 'path': './sample_dataset/images/sample_16.jpg', 'annotations': ['./sample_dataset/annotations/sample_16/cell.png', './sample_dataset/annotations/sample_16/boundary.png']}\n",
      "class_id {'': 0, 'boundary': 1, 'cell': 2}\n"
     ]
    },
    {
     "name": "stderr",
     "output_type": "stream",
     "text": [
      "ERROR:root:Error processing image {'id': 27, 'source': 'custom', 'path': './sample_dataset/images/sample_16.jpg', 'annotations': ['./sample_dataset/annotations/sample_16/cell.png', './sample_dataset/annotations/sample_16/boundary.png']}\n",
      "Traceback (most recent call last):\n",
      "  File \"/data/work/cell_segmentation/Usiigaci/Mask R-CNN/mrcnn/model.py\", line 1695, in data_generator\n",
      "    use_mini_mask=config.USE_MINI_MASK)\n",
      "  File \"/data/work/cell_segmentation/Usiigaci/Mask R-CNN/mrcnn/model.py\", line 1210, in load_image_gt\n",
      "    mask, class_ids = dataset.load_mask(image_id)\n",
      "  File \"/data/work/cell_segmentation/Usiigaci/Mask R-CNN/datasets.py\", line 136, in load_mask\n",
      "    instances_masks = np.swapaxes(np.swapaxes(np.asarray(instances_masks), 0, 2), 0, 1)\n",
      "  File \"/home/joanna/anaconda3/envs/usiigaci/lib/python3.6/site-packages/numpy/core/numeric.py\", line 538, in asarray\n",
      "    return array(a, dtype, copy=False, order=order)\n",
      "MemoryError\n"
     ]
    },
    {
     "name": "stdout",
     "output_type": "stream",
     "text": [
      "image_info {'id': 41, 'source': 'custom', 'path': './sample_dataset/images/sample_6.jpg', 'annotations': ['./sample_dataset/annotations/sample_6/cell.png', './sample_dataset/annotations/sample_6/boundary.png']}\n",
      "class_id {'': 0, 'boundary': 1, 'cell': 2}\n"
     ]
    },
    {
     "name": "stderr",
     "output_type": "stream",
     "text": [
      "ERROR:root:Error processing image {'id': 27, 'source': 'custom', 'path': './sample_dataset/images/sample_16.jpg', 'annotations': ['./sample_dataset/annotations/sample_16/cell.png', './sample_dataset/annotations/sample_16/boundary.png']}\n",
      "Traceback (most recent call last):\n",
      "  File \"/data/work/cell_segmentation/Usiigaci/Mask R-CNN/mrcnn/model.py\", line 1695, in data_generator\n",
      "    use_mini_mask=config.USE_MINI_MASK)\n",
      "  File \"/data/work/cell_segmentation/Usiigaci/Mask R-CNN/mrcnn/model.py\", line 1210, in load_image_gt\n",
      "    mask, class_ids = dataset.load_mask(image_id)\n",
      "  File \"/data/work/cell_segmentation/Usiigaci/Mask R-CNN/datasets.py\", line 136, in load_mask\n",
      "    instances_masks = np.swapaxes(np.swapaxes(np.asarray(instances_masks), 0, 2), 0, 1)\n",
      "  File \"/home/joanna/anaconda3/envs/usiigaci/lib/python3.6/site-packages/numpy/core/numeric.py\", line 538, in asarray\n",
      "    return array(a, dtype, copy=False, order=order)\n",
      "MemoryError\n"
     ]
    },
    {
     "name": "stdout",
     "output_type": "stream",
     "text": [
      "image_info {'id': 41, 'source': 'custom', 'path': './sample_dataset/images/sample_6.jpg', 'annotations': ['./sample_dataset/annotations/sample_6/cell.png', './sample_dataset/annotations/sample_6/boundary.png']}\n",
      "class_id {'': 0, 'boundary': 1, 'cell': 2}\n"
     ]
    },
    {
     "name": "stderr",
     "output_type": "stream",
     "text": [
      "ERROR:root:Error processing image {'id': 27, 'source': 'custom', 'path': './sample_dataset/images/sample_16.jpg', 'annotations': ['./sample_dataset/annotations/sample_16/cell.png', './sample_dataset/annotations/sample_16/boundary.png']}\n",
      "Traceback (most recent call last):\n",
      "  File \"/data/work/cell_segmentation/Usiigaci/Mask R-CNN/mrcnn/model.py\", line 1695, in data_generator\n",
      "    use_mini_mask=config.USE_MINI_MASK)\n",
      "  File \"/data/work/cell_segmentation/Usiigaci/Mask R-CNN/mrcnn/model.py\", line 1210, in load_image_gt\n",
      "    mask, class_ids = dataset.load_mask(image_id)\n",
      "  File \"/data/work/cell_segmentation/Usiigaci/Mask R-CNN/datasets.py\", line 136, in load_mask\n",
      "    instances_masks = np.swapaxes(np.swapaxes(np.asarray(instances_masks), 0, 2), 0, 1)\n",
      "  File \"/home/joanna/anaconda3/envs/usiigaci/lib/python3.6/site-packages/numpy/core/numeric.py\", line 538, in asarray\n",
      "    return array(a, dtype, copy=False, order=order)\n",
      "MemoryError\n"
     ]
    },
    {
     "name": "stdout",
     "output_type": "stream",
     "text": [
      "image_info {'id': 41, 'source': 'custom', 'path': './sample_dataset/images/sample_6.jpg', 'annotations': ['./sample_dataset/annotations/sample_6/cell.png', './sample_dataset/annotations/sample_6/boundary.png']}\n",
      "class_id {'': 0, 'boundary': 1, 'cell': 2}\n"
     ]
    },
    {
     "name": "stderr",
     "output_type": "stream",
     "text": [
      "ERROR:root:Error processing image {'id': 27, 'source': 'custom', 'path': './sample_dataset/images/sample_16.jpg', 'annotations': ['./sample_dataset/annotations/sample_16/cell.png', './sample_dataset/annotations/sample_16/boundary.png']}\n",
      "Traceback (most recent call last):\n",
      "  File \"/data/work/cell_segmentation/Usiigaci/Mask R-CNN/mrcnn/model.py\", line 1695, in data_generator\n",
      "    use_mini_mask=config.USE_MINI_MASK)\n",
      "  File \"/data/work/cell_segmentation/Usiigaci/Mask R-CNN/mrcnn/model.py\", line 1218, in load_image_gt\n",
      "    mask = utils.resize_mask(mask, scale, padding, crop)\n",
      "  File \"/data/work/cell_segmentation/Usiigaci/Mask R-CNN/mrcnn/utils.py\", line 514, in resize_mask\n",
      "    mask = scipy.ndimage.zoom(mask, zoom=[scale, scale, 1], order=0)\n",
      "  File \"/home/joanna/anaconda3/envs/usiigaci/lib/python3.6/site-packages/scipy/ndimage/interpolation.py\", line 615, in zoom\n",
      "    shape=output_shape)\n",
      "  File \"/home/joanna/anaconda3/envs/usiigaci/lib/python3.6/site-packages/scipy/ndimage/_ni_support.py\", line 75, in _get_output\n",
      "    output = numpy.zeros(shape, dtype=input.dtype.name)\n",
      "MemoryError\n"
     ]
    },
    {
     "name": "stdout",
     "output_type": "stream",
     "text": [
      "image_info {'id': 41, 'source': 'custom', 'path': './sample_dataset/images/sample_6.jpg', 'annotations': ['./sample_dataset/annotations/sample_6/cell.png', './sample_dataset/annotations/sample_6/boundary.png']}\n",
      "class_id {'': 0, 'boundary': 1, 'cell': 2}\n"
     ]
    },
    {
     "name": "stderr",
     "output_type": "stream",
     "text": [
      "ERROR:root:Error processing image {'id': 27, 'source': 'custom', 'path': './sample_dataset/images/sample_16.jpg', 'annotations': ['./sample_dataset/annotations/sample_16/cell.png', './sample_dataset/annotations/sample_16/boundary.png']}\n",
      "Traceback (most recent call last):\n",
      "  File \"/data/work/cell_segmentation/Usiigaci/Mask R-CNN/mrcnn/model.py\", line 1695, in data_generator\n",
      "    use_mini_mask=config.USE_MINI_MASK)\n",
      "  File \"/data/work/cell_segmentation/Usiigaci/Mask R-CNN/mrcnn/model.py\", line 1218, in load_image_gt\n",
      "    mask = utils.resize_mask(mask, scale, padding, crop)\n",
      "  File \"/data/work/cell_segmentation/Usiigaci/Mask R-CNN/mrcnn/utils.py\", line 514, in resize_mask\n",
      "    mask = scipy.ndimage.zoom(mask, zoom=[scale, scale, 1], order=0)\n",
      "  File \"/home/joanna/anaconda3/envs/usiigaci/lib/python3.6/site-packages/scipy/ndimage/interpolation.py\", line 615, in zoom\n",
      "    shape=output_shape)\n",
      "  File \"/home/joanna/anaconda3/envs/usiigaci/lib/python3.6/site-packages/scipy/ndimage/_ni_support.py\", line 75, in _get_output\n",
      "    output = numpy.zeros(shape, dtype=input.dtype.name)\n",
      "MemoryError\n"
     ]
    },
    {
     "name": "stdout",
     "output_type": "stream",
     "text": [
      "image_info {'id': 41, 'source': 'custom', 'path': './sample_dataset/images/sample_6.jpg', 'annotations': ['./sample_dataset/annotations/sample_6/cell.png', './sample_dataset/annotations/sample_6/boundary.png']}\n",
      "class_id {'': 0, 'boundary': 1, 'cell': 2}\n"
     ]
    },
    {
     "name": "stderr",
     "output_type": "stream",
     "text": [
      "ERROR:root:Error processing image {'id': 27, 'source': 'custom', 'path': './sample_dataset/images/sample_16.jpg', 'annotations': ['./sample_dataset/annotations/sample_16/cell.png', './sample_dataset/annotations/sample_16/boundary.png']}\n",
      "Traceback (most recent call last):\n",
      "  File \"/data/work/cell_segmentation/Usiigaci/Mask R-CNN/mrcnn/model.py\", line 1695, in data_generator\n",
      "    use_mini_mask=config.USE_MINI_MASK)\n",
      "  File \"/data/work/cell_segmentation/Usiigaci/Mask R-CNN/mrcnn/model.py\", line 1218, in load_image_gt\n",
      "    mask = utils.resize_mask(mask, scale, padding, crop)\n",
      "  File \"/data/work/cell_segmentation/Usiigaci/Mask R-CNN/mrcnn/utils.py\", line 514, in resize_mask\n",
      "    mask = scipy.ndimage.zoom(mask, zoom=[scale, scale, 1], order=0)\n",
      "  File \"/home/joanna/anaconda3/envs/usiigaci/lib/python3.6/site-packages/scipy/ndimage/interpolation.py\", line 615, in zoom\n",
      "    shape=output_shape)\n",
      "  File \"/home/joanna/anaconda3/envs/usiigaci/lib/python3.6/site-packages/scipy/ndimage/_ni_support.py\", line 75, in _get_output\n",
      "    output = numpy.zeros(shape, dtype=input.dtype.name)\n",
      "MemoryError\n"
     ]
    },
    {
     "name": "stdout",
     "output_type": "stream",
     "text": [
      "image_info {'id': 41, 'source': 'custom', 'path': './sample_dataset/images/sample_6.jpg', 'annotations': ['./sample_dataset/annotations/sample_6/cell.png', './sample_dataset/annotations/sample_6/boundary.png']}\n",
      "class_id {'': 0, 'boundary': 1, 'cell': 2}\n"
     ]
    },
    {
     "name": "stderr",
     "output_type": "stream",
     "text": [
      "ERROR:root:Error processing image {'id': 27, 'source': 'custom', 'path': './sample_dataset/images/sample_16.jpg', 'annotations': ['./sample_dataset/annotations/sample_16/cell.png', './sample_dataset/annotations/sample_16/boundary.png']}\n",
      "Traceback (most recent call last):\n",
      "  File \"/data/work/cell_segmentation/Usiigaci/Mask R-CNN/mrcnn/model.py\", line 1695, in data_generator\n",
      "    use_mini_mask=config.USE_MINI_MASK)\n",
      "  File \"/data/work/cell_segmentation/Usiigaci/Mask R-CNN/mrcnn/model.py\", line 1218, in load_image_gt\n",
      "    mask = utils.resize_mask(mask, scale, padding, crop)\n",
      "  File \"/data/work/cell_segmentation/Usiigaci/Mask R-CNN/mrcnn/utils.py\", line 514, in resize_mask\n",
      "    mask = scipy.ndimage.zoom(mask, zoom=[scale, scale, 1], order=0)\n",
      "  File \"/home/joanna/anaconda3/envs/usiigaci/lib/python3.6/site-packages/scipy/ndimage/interpolation.py\", line 615, in zoom\n",
      "    shape=output_shape)\n",
      "  File \"/home/joanna/anaconda3/envs/usiigaci/lib/python3.6/site-packages/scipy/ndimage/_ni_support.py\", line 75, in _get_output\n",
      "    output = numpy.zeros(shape, dtype=input.dtype.name)\n",
      "MemoryError\n"
     ]
    },
    {
     "name": "stdout",
     "output_type": "stream",
     "text": [
      "image_info {'id': 41, 'source': 'custom', 'path': './sample_dataset/images/sample_6.jpg', 'annotations': ['./sample_dataset/annotations/sample_6/cell.png', './sample_dataset/annotations/sample_6/boundary.png']}\n",
      "class_id {'': 0, 'boundary': 1, 'cell': 2}\n"
     ]
    },
    {
     "name": "stderr",
     "output_type": "stream",
     "text": [
      "Process ForkPoolWorker-10:\n",
      "Process ForkPoolWorker-9:\n",
      "Process ForkPoolWorker-7:\n",
      "Process ForkPoolWorker-13:\n",
      "Process ForkPoolWorker-5:\n",
      "Exception ignored in: <Finalize object, dead>\n",
      "Traceback (most recent call last):\n",
      "  File \"/home/joanna/anaconda3/envs/usiigaci/lib/python3.6/multiprocessing/util.py\", line 186, in __call__\n",
      "    res = self._callback(*self._args, **self._kwargs)\n",
      "  File \"/home/joanna/anaconda3/envs/usiigaci/lib/python3.6/multiprocessing/pool.py\", line 589, in _terminate_pool\n",
      "    p.terminate()\n",
      "  File \"/home/joanna/anaconda3/envs/usiigaci/lib/python3.6/multiprocessing/process.py\", line 116, in terminate\n",
      "    self._popen.terminate()\n",
      "AttributeError: 'NoneType' object has no attribute 'terminate'\n",
      "Exception ignored in: <Finalize object, dead>\n",
      "Traceback (most recent call last):\n",
      "  File \"/home/joanna/anaconda3/envs/usiigaci/lib/python3.6/multiprocessing/util.py\", line 186, in __call__\n",
      "    res = self._callback(*self._args, **self._kwargs)\n",
      "  File \"/home/joanna/anaconda3/envs/usiigaci/lib/python3.6/multiprocessing/pool.py\", line 589, in _terminate_pool\n",
      "    p.terminate()\n",
      "  File \"/home/joanna/anaconda3/envs/usiigaci/lib/python3.6/multiprocessing/process.py\", line 116, in terminate\n",
      "    self._popen.terminate()\n",
      "AttributeError: 'NoneType' object has no attribute 'terminate'\n"
     ]
    },
    {
     "ename": "KeyboardInterrupt",
     "evalue": "",
     "output_type": "error",
     "traceback": [
      "\u001b[0;31m---------------------------------------------------------------------------\u001b[0m",
      "\u001b[0;31mKeyboardInterrupt\u001b[0m                         Traceback (most recent call last)",
      "\u001b[0;32m<ipython-input-7-ad59dd4a9808>\u001b[0m in \u001b[0;36m<module>\u001b[0;34m\u001b[0m\n\u001b[1;32m     17\u001b[0m     ])\n\u001b[1;32m     18\u001b[0m \u001b[0;34m\u001b[0m\u001b[0m\n\u001b[0;32m---> 19\u001b[0;31m \u001b[0mtrain\u001b[0m\u001b[0;34m(\u001b[0m\u001b[0mmodel\u001b[0m\u001b[0;34m,\u001b[0m \u001b[0mconfig\u001b[0m\u001b[0;34m,\u001b[0m \u001b[0mtrain_dataset\u001b[0m\u001b[0;34m,\u001b[0m \u001b[0mtest_dataset\u001b[0m\u001b[0;34m)\u001b[0m\u001b[0;34m\u001b[0m\u001b[0;34m\u001b[0m\u001b[0m\n\u001b[0m",
      "\u001b[0;32m<ipython-input-6-ae78a072ef12>\u001b[0m in \u001b[0;36mtrain\u001b[0;34m(model, config, train_dataset, val_dataset)\u001b[0m\n\u001b[1;32m     20\u001b[0m                 \u001b[0mepochs\u001b[0m\u001b[0;34m=\u001b[0m\u001b[0;36m100\u001b[0m\u001b[0;34m,\u001b[0m\u001b[0;34m\u001b[0m\u001b[0;34m\u001b[0m\u001b[0m\n\u001b[1;32m     21\u001b[0m                 \u001b[0maugmentation\u001b[0m\u001b[0;34m=\u001b[0m\u001b[0maugmentation\u001b[0m\u001b[0;34m,\u001b[0m\u001b[0;34m\u001b[0m\u001b[0;34m\u001b[0m\u001b[0m\n\u001b[0;32m---> 22\u001b[0;31m                 layers='heads')\n\u001b[0m\u001b[1;32m     23\u001b[0m \u001b[0;34m\u001b[0m\u001b[0m\n\u001b[1;32m     24\u001b[0m     \u001b[0mprint\u001b[0m\u001b[0;34m(\u001b[0m\u001b[0;34m\"Train all layers\"\u001b[0m\u001b[0;34m)\u001b[0m\u001b[0;34m\u001b[0m\u001b[0;34m\u001b[0m\u001b[0m\n",
      "\u001b[0;32m/data/work/cell_segmentation/Usiigaci/Mask R-CNN/mrcnn/model.py\u001b[0m in \u001b[0;36mtrain\u001b[0;34m(self, train_dataset, val_dataset, learning_rate, epochs, layers, augmentation)\u001b[0m\n\u001b[1;32m   2326\u001b[0m             \u001b[0mmax_queue_size\u001b[0m\u001b[0;34m=\u001b[0m\u001b[0;36m100\u001b[0m\u001b[0;34m,\u001b[0m\u001b[0;34m\u001b[0m\u001b[0;34m\u001b[0m\u001b[0m\n\u001b[1;32m   2327\u001b[0m             \u001b[0mworkers\u001b[0m\u001b[0;34m=\u001b[0m\u001b[0mworkers\u001b[0m\u001b[0;34m,\u001b[0m\u001b[0;34m\u001b[0m\u001b[0;34m\u001b[0m\u001b[0m\n\u001b[0;32m-> 2328\u001b[0;31m             \u001b[0muse_multiprocessing\u001b[0m\u001b[0;34m=\u001b[0m\u001b[0;32mTrue\u001b[0m\u001b[0;34m,\u001b[0m\u001b[0;34m\u001b[0m\u001b[0;34m\u001b[0m\u001b[0m\n\u001b[0m\u001b[1;32m   2329\u001b[0m         )\n\u001b[1;32m   2330\u001b[0m         \u001b[0mself\u001b[0m\u001b[0;34m.\u001b[0m\u001b[0mepoch\u001b[0m \u001b[0;34m=\u001b[0m \u001b[0mmax\u001b[0m\u001b[0;34m(\u001b[0m\u001b[0mself\u001b[0m\u001b[0;34m.\u001b[0m\u001b[0mepoch\u001b[0m\u001b[0;34m,\u001b[0m \u001b[0mepochs\u001b[0m\u001b[0;34m)\u001b[0m\u001b[0;34m\u001b[0m\u001b[0;34m\u001b[0m\u001b[0m\n",
      "\u001b[0;32m~/anaconda3/envs/usiigaci/lib/python3.6/site-packages/keras/legacy/interfaces.py\u001b[0m in \u001b[0;36mwrapper\u001b[0;34m(*args, **kwargs)\u001b[0m\n\u001b[1;32m     89\u001b[0m                 warnings.warn('Update your `' + object_name + '` call to the ' +\n\u001b[1;32m     90\u001b[0m                               'Keras 2 API: ' + signature, stacklevel=2)\n\u001b[0;32m---> 91\u001b[0;31m             \u001b[0;32mreturn\u001b[0m \u001b[0mfunc\u001b[0m\u001b[0;34m(\u001b[0m\u001b[0;34m*\u001b[0m\u001b[0margs\u001b[0m\u001b[0;34m,\u001b[0m \u001b[0;34m**\u001b[0m\u001b[0mkwargs\u001b[0m\u001b[0;34m)\u001b[0m\u001b[0;34m\u001b[0m\u001b[0;34m\u001b[0m\u001b[0m\n\u001b[0m\u001b[1;32m     92\u001b[0m         \u001b[0mwrapper\u001b[0m\u001b[0;34m.\u001b[0m\u001b[0m_original_function\u001b[0m \u001b[0;34m=\u001b[0m \u001b[0mfunc\u001b[0m\u001b[0;34m\u001b[0m\u001b[0;34m\u001b[0m\u001b[0m\n\u001b[1;32m     93\u001b[0m         \u001b[0;32mreturn\u001b[0m \u001b[0mwrapper\u001b[0m\u001b[0;34m\u001b[0m\u001b[0;34m\u001b[0m\u001b[0m\n",
      "\u001b[0;32m~/anaconda3/envs/usiigaci/lib/python3.6/site-packages/keras/engine/training.py\u001b[0m in \u001b[0;36mfit_generator\u001b[0;34m(self, generator, steps_per_epoch, epochs, verbose, callbacks, validation_data, validation_steps, class_weight, max_queue_size, workers, use_multiprocessing, shuffle, initial_epoch)\u001b[0m\n\u001b[1;32m   1416\u001b[0m             \u001b[0muse_multiprocessing\u001b[0m\u001b[0;34m=\u001b[0m\u001b[0muse_multiprocessing\u001b[0m\u001b[0;34m,\u001b[0m\u001b[0;34m\u001b[0m\u001b[0;34m\u001b[0m\u001b[0m\n\u001b[1;32m   1417\u001b[0m             \u001b[0mshuffle\u001b[0m\u001b[0;34m=\u001b[0m\u001b[0mshuffle\u001b[0m\u001b[0;34m,\u001b[0m\u001b[0;34m\u001b[0m\u001b[0;34m\u001b[0m\u001b[0m\n\u001b[0;32m-> 1418\u001b[0;31m             initial_epoch=initial_epoch)\n\u001b[0m\u001b[1;32m   1419\u001b[0m \u001b[0;34m\u001b[0m\u001b[0m\n\u001b[1;32m   1420\u001b[0m     \u001b[0;34m@\u001b[0m\u001b[0minterfaces\u001b[0m\u001b[0;34m.\u001b[0m\u001b[0mlegacy_generator_methods_support\u001b[0m\u001b[0;34m\u001b[0m\u001b[0;34m\u001b[0m\u001b[0m\n",
      "\u001b[0;32m~/anaconda3/envs/usiigaci/lib/python3.6/site-packages/keras/engine/training_generator.py\u001b[0m in \u001b[0;36mfit_generator\u001b[0;34m(model, generator, steps_per_epoch, epochs, verbose, callbacks, validation_data, validation_steps, class_weight, max_queue_size, workers, use_multiprocessing, shuffle, initial_epoch)\u001b[0m\n\u001b[1;32m    179\u001b[0m             \u001b[0mbatch_index\u001b[0m \u001b[0;34m=\u001b[0m \u001b[0;36m0\u001b[0m\u001b[0;34m\u001b[0m\u001b[0;34m\u001b[0m\u001b[0m\n\u001b[1;32m    180\u001b[0m             \u001b[0;32mwhile\u001b[0m \u001b[0msteps_done\u001b[0m \u001b[0;34m<\u001b[0m \u001b[0msteps_per_epoch\u001b[0m\u001b[0;34m:\u001b[0m\u001b[0;34m\u001b[0m\u001b[0;34m\u001b[0m\u001b[0m\n\u001b[0;32m--> 181\u001b[0;31m                 \u001b[0mgenerator_output\u001b[0m \u001b[0;34m=\u001b[0m \u001b[0mnext\u001b[0m\u001b[0;34m(\u001b[0m\u001b[0moutput_generator\u001b[0m\u001b[0;34m)\u001b[0m\u001b[0;34m\u001b[0m\u001b[0;34m\u001b[0m\u001b[0m\n\u001b[0m\u001b[1;32m    182\u001b[0m \u001b[0;34m\u001b[0m\u001b[0m\n\u001b[1;32m    183\u001b[0m                 \u001b[0;32mif\u001b[0m \u001b[0;32mnot\u001b[0m \u001b[0mhasattr\u001b[0m\u001b[0;34m(\u001b[0m\u001b[0mgenerator_output\u001b[0m\u001b[0;34m,\u001b[0m \u001b[0;34m'__len__'\u001b[0m\u001b[0;34m)\u001b[0m\u001b[0;34m:\u001b[0m\u001b[0;34m\u001b[0m\u001b[0;34m\u001b[0m\u001b[0m\n",
      "\u001b[0;32m~/anaconda3/envs/usiigaci/lib/python3.6/site-packages/keras/utils/data_utils.py\u001b[0m in \u001b[0;36mget\u001b[0;34m(self)\u001b[0m\n\u001b[1;32m    683\u001b[0m         \u001b[0;32mtry\u001b[0m\u001b[0;34m:\u001b[0m\u001b[0;34m\u001b[0m\u001b[0;34m\u001b[0m\u001b[0m\n\u001b[1;32m    684\u001b[0m             \u001b[0;32mwhile\u001b[0m \u001b[0mself\u001b[0m\u001b[0;34m.\u001b[0m\u001b[0mis_running\u001b[0m\u001b[0;34m(\u001b[0m\u001b[0;34m)\u001b[0m\u001b[0;34m:\u001b[0m\u001b[0;34m\u001b[0m\u001b[0;34m\u001b[0m\u001b[0m\n\u001b[0;32m--> 685\u001b[0;31m                 \u001b[0minputs\u001b[0m \u001b[0;34m=\u001b[0m \u001b[0mself\u001b[0m\u001b[0;34m.\u001b[0m\u001b[0mqueue\u001b[0m\u001b[0;34m.\u001b[0m\u001b[0mget\u001b[0m\u001b[0;34m(\u001b[0m\u001b[0mblock\u001b[0m\u001b[0;34m=\u001b[0m\u001b[0;32mTrue\u001b[0m\u001b[0;34m)\u001b[0m\u001b[0;34m.\u001b[0m\u001b[0mget\u001b[0m\u001b[0;34m(\u001b[0m\u001b[0;34m)\u001b[0m\u001b[0;34m\u001b[0m\u001b[0;34m\u001b[0m\u001b[0m\n\u001b[0m\u001b[1;32m    686\u001b[0m                 \u001b[0mself\u001b[0m\u001b[0;34m.\u001b[0m\u001b[0mqueue\u001b[0m\u001b[0;34m.\u001b[0m\u001b[0mtask_done\u001b[0m\u001b[0;34m(\u001b[0m\u001b[0;34m)\u001b[0m\u001b[0;34m\u001b[0m\u001b[0;34m\u001b[0m\u001b[0m\n\u001b[1;32m    687\u001b[0m                 \u001b[0;32mif\u001b[0m \u001b[0minputs\u001b[0m \u001b[0;32mis\u001b[0m \u001b[0;32mnot\u001b[0m \u001b[0;32mNone\u001b[0m\u001b[0;34m:\u001b[0m\u001b[0;34m\u001b[0m\u001b[0;34m\u001b[0m\u001b[0m\n",
      "\u001b[0;32m~/anaconda3/envs/usiigaci/lib/python3.6/multiprocessing/pool.py\u001b[0m in \u001b[0;36mget\u001b[0;34m(self, timeout)\u001b[0m\n\u001b[1;32m    636\u001b[0m \u001b[0;34m\u001b[0m\u001b[0m\n\u001b[1;32m    637\u001b[0m     \u001b[0;32mdef\u001b[0m \u001b[0mget\u001b[0m\u001b[0;34m(\u001b[0m\u001b[0mself\u001b[0m\u001b[0;34m,\u001b[0m \u001b[0mtimeout\u001b[0m\u001b[0;34m=\u001b[0m\u001b[0;32mNone\u001b[0m\u001b[0;34m)\u001b[0m\u001b[0;34m:\u001b[0m\u001b[0;34m\u001b[0m\u001b[0;34m\u001b[0m\u001b[0m\n\u001b[0;32m--> 638\u001b[0;31m         \u001b[0mself\u001b[0m\u001b[0;34m.\u001b[0m\u001b[0mwait\u001b[0m\u001b[0;34m(\u001b[0m\u001b[0mtimeout\u001b[0m\u001b[0;34m)\u001b[0m\u001b[0;34m\u001b[0m\u001b[0;34m\u001b[0m\u001b[0m\n\u001b[0m\u001b[1;32m    639\u001b[0m         \u001b[0;32mif\u001b[0m \u001b[0;32mnot\u001b[0m \u001b[0mself\u001b[0m\u001b[0;34m.\u001b[0m\u001b[0mready\u001b[0m\u001b[0;34m(\u001b[0m\u001b[0;34m)\u001b[0m\u001b[0;34m:\u001b[0m\u001b[0;34m\u001b[0m\u001b[0;34m\u001b[0m\u001b[0m\n\u001b[1;32m    640\u001b[0m             \u001b[0;32mraise\u001b[0m \u001b[0mTimeoutError\u001b[0m\u001b[0;34m\u001b[0m\u001b[0;34m\u001b[0m\u001b[0m\n",
      "\u001b[0;32m~/anaconda3/envs/usiigaci/lib/python3.6/multiprocessing/pool.py\u001b[0m in \u001b[0;36mwait\u001b[0;34m(self, timeout)\u001b[0m\n\u001b[1;32m    633\u001b[0m \u001b[0;34m\u001b[0m\u001b[0m\n\u001b[1;32m    634\u001b[0m     \u001b[0;32mdef\u001b[0m \u001b[0mwait\u001b[0m\u001b[0;34m(\u001b[0m\u001b[0mself\u001b[0m\u001b[0;34m,\u001b[0m \u001b[0mtimeout\u001b[0m\u001b[0;34m=\u001b[0m\u001b[0;32mNone\u001b[0m\u001b[0;34m)\u001b[0m\u001b[0;34m:\u001b[0m\u001b[0;34m\u001b[0m\u001b[0;34m\u001b[0m\u001b[0m\n\u001b[0;32m--> 635\u001b[0;31m         \u001b[0mself\u001b[0m\u001b[0;34m.\u001b[0m\u001b[0m_event\u001b[0m\u001b[0;34m.\u001b[0m\u001b[0mwait\u001b[0m\u001b[0;34m(\u001b[0m\u001b[0mtimeout\u001b[0m\u001b[0;34m)\u001b[0m\u001b[0;34m\u001b[0m\u001b[0;34m\u001b[0m\u001b[0m\n\u001b[0m\u001b[1;32m    636\u001b[0m \u001b[0;34m\u001b[0m\u001b[0m\n\u001b[1;32m    637\u001b[0m     \u001b[0;32mdef\u001b[0m \u001b[0mget\u001b[0m\u001b[0;34m(\u001b[0m\u001b[0mself\u001b[0m\u001b[0;34m,\u001b[0m \u001b[0mtimeout\u001b[0m\u001b[0;34m=\u001b[0m\u001b[0;32mNone\u001b[0m\u001b[0;34m)\u001b[0m\u001b[0;34m:\u001b[0m\u001b[0;34m\u001b[0m\u001b[0;34m\u001b[0m\u001b[0m\n",
      "\u001b[0;32m~/anaconda3/envs/usiigaci/lib/python3.6/threading.py\u001b[0m in \u001b[0;36mwait\u001b[0;34m(self, timeout)\u001b[0m\n\u001b[1;32m    549\u001b[0m             \u001b[0msignaled\u001b[0m \u001b[0;34m=\u001b[0m \u001b[0mself\u001b[0m\u001b[0;34m.\u001b[0m\u001b[0m_flag\u001b[0m\u001b[0;34m\u001b[0m\u001b[0;34m\u001b[0m\u001b[0m\n\u001b[1;32m    550\u001b[0m             \u001b[0;32mif\u001b[0m \u001b[0;32mnot\u001b[0m \u001b[0msignaled\u001b[0m\u001b[0;34m:\u001b[0m\u001b[0;34m\u001b[0m\u001b[0;34m\u001b[0m\u001b[0m\n\u001b[0;32m--> 551\u001b[0;31m                 \u001b[0msignaled\u001b[0m \u001b[0;34m=\u001b[0m \u001b[0mself\u001b[0m\u001b[0;34m.\u001b[0m\u001b[0m_cond\u001b[0m\u001b[0;34m.\u001b[0m\u001b[0mwait\u001b[0m\u001b[0;34m(\u001b[0m\u001b[0mtimeout\u001b[0m\u001b[0;34m)\u001b[0m\u001b[0;34m\u001b[0m\u001b[0;34m\u001b[0m\u001b[0m\n\u001b[0m\u001b[1;32m    552\u001b[0m             \u001b[0;32mreturn\u001b[0m \u001b[0msignaled\u001b[0m\u001b[0;34m\u001b[0m\u001b[0;34m\u001b[0m\u001b[0m\n\u001b[1;32m    553\u001b[0m \u001b[0;34m\u001b[0m\u001b[0m\n",
      "\u001b[0;32m~/anaconda3/envs/usiigaci/lib/python3.6/threading.py\u001b[0m in \u001b[0;36mwait\u001b[0;34m(self, timeout)\u001b[0m\n\u001b[1;32m    293\u001b[0m         \u001b[0;32mtry\u001b[0m\u001b[0;34m:\u001b[0m    \u001b[0;31m# restore state no matter what (e.g., KeyboardInterrupt)\u001b[0m\u001b[0;34m\u001b[0m\u001b[0;34m\u001b[0m\u001b[0m\n\u001b[1;32m    294\u001b[0m             \u001b[0;32mif\u001b[0m \u001b[0mtimeout\u001b[0m \u001b[0;32mis\u001b[0m \u001b[0;32mNone\u001b[0m\u001b[0;34m:\u001b[0m\u001b[0;34m\u001b[0m\u001b[0;34m\u001b[0m\u001b[0m\n\u001b[0;32m--> 295\u001b[0;31m                 \u001b[0mwaiter\u001b[0m\u001b[0;34m.\u001b[0m\u001b[0macquire\u001b[0m\u001b[0;34m(\u001b[0m\u001b[0;34m)\u001b[0m\u001b[0;34m\u001b[0m\u001b[0;34m\u001b[0m\u001b[0m\n\u001b[0m\u001b[1;32m    296\u001b[0m                 \u001b[0mgotit\u001b[0m \u001b[0;34m=\u001b[0m \u001b[0;32mTrue\u001b[0m\u001b[0;34m\u001b[0m\u001b[0;34m\u001b[0m\u001b[0m\n\u001b[1;32m    297\u001b[0m             \u001b[0;32melse\u001b[0m\u001b[0;34m:\u001b[0m\u001b[0;34m\u001b[0m\u001b[0;34m\u001b[0m\u001b[0m\n",
      "\u001b[0;31mKeyboardInterrupt\u001b[0m: "
     ]
    }
   ],
   "source": [
    "# define the path of pretrained weight to start from\n",
    "weights_path = None\n",
    "\n",
    "out_dir = './training_test'\n",
    "print('> Training on data: ', train_data_dir)\n",
    "print('> Saving results to: ', out_dir)\n",
    "\n",
    "config = cellConfig()\n",
    "model = modellib.MaskRCNN(mode=\"training\", config=config,\n",
    "                              model_dir=out_dir)\n",
    "\n",
    "if weights_path is not None:\n",
    "    print('> Loading weights from: ', weights_path)\n",
    "    model.load_weights(weights_path, by_name=True, exclude=[\n",
    "        \"mrcnn_class_logits\", \"mrcnn_bbox_fc\",\n",
    "        \"mrcnn_bbox\", \"mrcnn_mask\"\n",
    "    ])\n",
    "\n",
    "train(model, config, train_dataset, test_dataset)\n"
   ]
  },
  {
   "cell_type": "markdown",
   "metadata": {},
   "source": [
    "## Evaluation\n",
    "\n",
    "Run evaluation on chosen model and visualize predictions."
   ]
  },
  {
   "cell_type": "code",
   "execution_count": null,
   "metadata": {},
   "outputs": [],
   "source": []
  },
  {
   "cell_type": "code",
   "execution_count": null,
   "metadata": {},
   "outputs": [],
   "source": []
  }
 ],
 "metadata": {
  "kernelspec": {
   "display_name": "Python 3",
   "language": "python",
   "name": "python3"
  },
  "language_info": {
   "codemirror_mode": {
    "name": "ipython",
    "version": 3
   },
   "file_extension": ".py",
   "mimetype": "text/x-python",
   "name": "python",
   "nbconvert_exporter": "python",
   "pygments_lexer": "ipython3",
   "version": "3.6.8"
  }
 },
 "nbformat": 4,
 "nbformat_minor": 2
}
